{
 "cells": [
  {
   "cell_type": "code",
   "execution_count": 5,
   "metadata": {},
   "outputs": [],
   "source": [
    "import pandas as pd\n",
    "import numpy as np\n",
    "import json \n",
    "import requests\n",
    "from io import StringIO\n",
    "from urllib.request import Request, urlopen\n",
    "pd.options.display.max_columns = 100\n"
   ]
  },
  {
   "cell_type": "markdown",
   "metadata": {},
   "source": [
    "# Gathering\n",
    "Collecting pieces of data from different resources:\n",
    "\n",
    "1. The \"WeRateDogs\" twitter archive given as CSV.\n",
    "2. Getting Additional Data from Twitter API\n",
    "3. Using neural network data given as TSV."
   ]
  },
  {
   "cell_type": "code",
   "execution_count": 6,
   "metadata": {},
   "outputs": [
    {
     "data": {
      "text/html": [
       "<div>\n",
       "<style scoped>\n",
       "    .dataframe tbody tr th:only-of-type {\n",
       "        vertical-align: middle;\n",
       "    }\n",
       "\n",
       "    .dataframe tbody tr th {\n",
       "        vertical-align: top;\n",
       "    }\n",
       "\n",
       "    .dataframe thead th {\n",
       "        text-align: right;\n",
       "    }\n",
       "</style>\n",
       "<table border=\"1\" class=\"dataframe\">\n",
       "  <thead>\n",
       "    <tr style=\"text-align: right;\">\n",
       "      <th></th>\n",
       "      <th>tweet_id</th>\n",
       "      <th>in_reply_to_status_id</th>\n",
       "      <th>in_reply_to_user_id</th>\n",
       "      <th>timestamp</th>\n",
       "      <th>source</th>\n",
       "      <th>text</th>\n",
       "      <th>retweeted_status_id</th>\n",
       "      <th>retweeted_status_user_id</th>\n",
       "      <th>retweeted_status_timestamp</th>\n",
       "      <th>expanded_urls</th>\n",
       "      <th>rating_numerator</th>\n",
       "      <th>rating_denominator</th>\n",
       "      <th>name</th>\n",
       "      <th>doggo</th>\n",
       "      <th>floofer</th>\n",
       "      <th>pupper</th>\n",
       "      <th>puppo</th>\n",
       "    </tr>\n",
       "  </thead>\n",
       "  <tbody>\n",
       "    <tr>\n",
       "      <th>1362</th>\n",
       "      <td>703041949650034688</td>\n",
       "      <td>NaN</td>\n",
       "      <td>NaN</td>\n",
       "      <td>2016-02-26 02:20:37 +0000</td>\n",
       "      <td>&lt;a href=\"http://twitter.com/download/iphone\" r...</td>\n",
       "      <td>This is an East African Chalupa Seal. We only ...</td>\n",
       "      <td>NaN</td>\n",
       "      <td>NaN</td>\n",
       "      <td>NaN</td>\n",
       "      <td>https://twitter.com/dog_rates/status/703041949...</td>\n",
       "      <td>10</td>\n",
       "      <td>10</td>\n",
       "      <td>an</td>\n",
       "      <td>None</td>\n",
       "      <td>None</td>\n",
       "      <td>None</td>\n",
       "      <td>None</td>\n",
       "    </tr>\n",
       "  </tbody>\n",
       "</table>\n",
       "</div>"
      ],
      "text/plain": [
       "                tweet_id  in_reply_to_status_id  in_reply_to_user_id  \\\n",
       "1362  703041949650034688                    NaN                  NaN   \n",
       "\n",
       "                      timestamp  \\\n",
       "1362  2016-02-26 02:20:37 +0000   \n",
       "\n",
       "                                                 source  \\\n",
       "1362  <a href=\"http://twitter.com/download/iphone\" r...   \n",
       "\n",
       "                                                   text  retweeted_status_id  \\\n",
       "1362  This is an East African Chalupa Seal. We only ...                  NaN   \n",
       "\n",
       "      retweeted_status_user_id retweeted_status_timestamp  \\\n",
       "1362                       NaN                        NaN   \n",
       "\n",
       "                                          expanded_urls  rating_numerator  \\\n",
       "1362  https://twitter.com/dog_rates/status/703041949...                10   \n",
       "\n",
       "      rating_denominator name doggo floofer pupper puppo  \n",
       "1362                  10   an  None    None   None  None  "
      ]
     },
     "metadata": {},
     "output_type": "display_data"
    }
   ],
   "source": [
    "#LOADING FIRST PIECE OF DATA\n",
    "\n",
    "df_eta = pd.read_csv(\"twitter-archive-enhanced-2.csv\")\n",
    "display(df_eta.sample())"
   ]
  },
  {
   "cell_type": "code",
   "execution_count": 7,
   "metadata": {},
   "outputs": [
    {
     "ename": "ModuleNotFoundError",
     "evalue": "No module named 'tweepy'",
     "output_type": "error",
     "traceback": [
      "\u001b[1;31m---------------------------------------------------------------------------\u001b[0m",
      "\u001b[1;31mModuleNotFoundError\u001b[0m                       Traceback (most recent call last)",
      "\u001b[1;32m<ipython-input-7-d08f2ce00bd2>\u001b[0m in \u001b[0;36m<module>\u001b[1;34m\u001b[0m\n\u001b[0;32m      3\u001b[0m \u001b[1;31m#BUT CODE WAS REQUIRED, SO I'VE COPIED-PASTED\u001b[0m\u001b[1;33m\u001b[0m\u001b[1;33m\u001b[0m\u001b[1;33m\u001b[0m\u001b[0m\n\u001b[0;32m      4\u001b[0m \u001b[1;33m\u001b[0m\u001b[0m\n\u001b[1;32m----> 5\u001b[1;33m \u001b[1;32mimport\u001b[0m \u001b[0mtweepy\u001b[0m\u001b[1;33m\u001b[0m\u001b[1;33m\u001b[0m\u001b[0m\n\u001b[0m\u001b[0;32m      6\u001b[0m \u001b[1;32mfrom\u001b[0m \u001b[0mtweepy\u001b[0m \u001b[1;32mimport\u001b[0m \u001b[0mOAuthHandler\u001b[0m\u001b[1;33m\u001b[0m\u001b[1;33m\u001b[0m\u001b[0m\n\u001b[0;32m      7\u001b[0m \u001b[1;32mimport\u001b[0m \u001b[0mjson\u001b[0m\u001b[1;33m\u001b[0m\u001b[1;33m\u001b[0m\u001b[0m\n",
      "\u001b[1;31mModuleNotFoundError\u001b[0m: No module named 'tweepy'"
     ]
    }
   ],
   "source": [
    "#CONNECTION WITH TWITTER API\n",
    "#I PREFERED TO WORK WITH .TXT DOCUMENT GIVEN - WITHOUT A TWITTER ACCOUNT, \n",
    "#BUT CODE WAS REQUIRED, SO I'VE COPIED-PASTED\n",
    "\n",
    "import tweepy\n",
    "from tweepy import OAuthHandler\n",
    "import json\n",
    "from timeit import default_timer as timer\n",
    "\n",
    "# Query Twitter API for each tweet in the Twitter archive and save JSON in a text file\n",
    "# These are hidden to comply with Twitter's API terms and conditions\n",
    "consumer_key = 'HIDDEN'\n",
    "consumer_secret = 'HIDDEN'\n",
    "access_token = 'HIDDEN'\n",
    "access_secret = 'HIDDEN'\n",
    "\n",
    "auth = OAuthHandler(consumer_key, consumer_secret)\n",
    "auth.set_access_token(access_token, access_secret)\n",
    "\n",
    "api = tweepy.API(auth, wait_on_rate_limit=True)\n",
    "\n",
    "# NOTE TO STUDENT WITH MOBILE VERIFICATION ISSUES:\n",
    "# df_1 is a DataFrame with the twitter_archive_enhanced.csv file. You may have to\n",
    "# change line 17 to match the name of your DataFrame with twitter_archive_enhanced.csv\n",
    "# NOTE TO REVIEWER: this student had mobile verification issues so the following\n",
    "# Twitter API code was sent to this student from a Udacity instructor\n",
    "# Tweet IDs for which to gather additional data via Twitter's API\n",
    "tweet_ids = df_1.tweet_id.values\n",
    "len(tweet_ids)\n",
    "\n",
    "# Query Twitter's API for JSON data for each tweet ID in the Twitter archive\n",
    "count = 0\n",
    "fails_dict = {}\n",
    "start = timer()\n",
    "# Save each tweet's returned JSON as a new line in a .txt file\n",
    "with open('tweet_json.txt', 'w') as outfile:\n",
    "    # This loop will likely take 20-30 minutes to run because of Twitter's rate limit\n",
    "    for tweet_id in tweet_ids:\n",
    "        count += 1\n",
    "        print(str(count) + \": \" + str(tweet_id))\n",
    "        try:\n",
    "            tweet = api.get_status(tweet_id, tweet_mode='extended')\n",
    "            print(\"Success\")\n",
    "            json.dump(tweet._json, outfile)\n",
    "            outfile.write('\\n')\n",
    "        except tweepy.TweepError as e:\n",
    "            print(\"Fail\")\n",
    "            fails_dict[tweet_id] = e\n",
    "            pass\n",
    "end = timer()\n",
    "print(end - start)\n",
    "print(fails_dict)\n"
   ]
  },
  {
   "cell_type": "code",
   "execution_count": 8,
   "metadata": {},
   "outputs": [
    {
     "data": {
      "text/html": [
       "<div>\n",
       "<style scoped>\n",
       "    .dataframe tbody tr th:only-of-type {\n",
       "        vertical-align: middle;\n",
       "    }\n",
       "\n",
       "    .dataframe tbody tr th {\n",
       "        vertical-align: top;\n",
       "    }\n",
       "\n",
       "    .dataframe thead th {\n",
       "        text-align: right;\n",
       "    }\n",
       "</style>\n",
       "<table border=\"1\" class=\"dataframe\">\n",
       "  <thead>\n",
       "    <tr style=\"text-align: right;\">\n",
       "      <th></th>\n",
       "      <th>created_at</th>\n",
       "      <th>id</th>\n",
       "      <th>id_str</th>\n",
       "      <th>full_text</th>\n",
       "      <th>truncated</th>\n",
       "      <th>display_text_range</th>\n",
       "      <th>entities</th>\n",
       "      <th>extended_entities</th>\n",
       "      <th>source</th>\n",
       "      <th>in_reply_to_status_id</th>\n",
       "      <th>in_reply_to_status_id_str</th>\n",
       "      <th>in_reply_to_user_id</th>\n",
       "      <th>in_reply_to_user_id_str</th>\n",
       "      <th>in_reply_to_screen_name</th>\n",
       "      <th>user</th>\n",
       "      <th>geo</th>\n",
       "      <th>coordinates</th>\n",
       "      <th>place</th>\n",
       "      <th>contributors</th>\n",
       "      <th>is_quote_status</th>\n",
       "      <th>retweet_count</th>\n",
       "      <th>favorite_count</th>\n",
       "      <th>favorited</th>\n",
       "      <th>retweeted</th>\n",
       "      <th>possibly_sensitive</th>\n",
       "      <th>possibly_sensitive_appealable</th>\n",
       "      <th>lang</th>\n",
       "      <th>retweeted_status</th>\n",
       "      <th>quoted_status_id</th>\n",
       "      <th>quoted_status_id_str</th>\n",
       "      <th>quoted_status</th>\n",
       "    </tr>\n",
       "  </thead>\n",
       "  <tbody>\n",
       "    <tr>\n",
       "      <th>1131</th>\n",
       "      <td>2016-05-07 00:59:55+00:00</td>\n",
       "      <td>728751179681943552</td>\n",
       "      <td>728751179681943552</td>\n",
       "      <td>This is Flurpson. He can't believe it's not bu...</td>\n",
       "      <td>False</td>\n",
       "      <td>[0, 57]</td>\n",
       "      <td>{'hashtags': [], 'symbols': [], 'user_mentions...</td>\n",
       "      <td>{'media': [{'id': 728751174258708481, 'id_str'...</td>\n",
       "      <td>&lt;a href=\"http://twitter.com/download/iphone\" r...</td>\n",
       "      <td>NaN</td>\n",
       "      <td>NaN</td>\n",
       "      <td>NaN</td>\n",
       "      <td>NaN</td>\n",
       "      <td>None</td>\n",
       "      <td>{'id': 4196983835, 'id_str': '4196983835', 'na...</td>\n",
       "      <td>NaN</td>\n",
       "      <td>NaN</td>\n",
       "      <td>None</td>\n",
       "      <td>NaN</td>\n",
       "      <td>False</td>\n",
       "      <td>757</td>\n",
       "      <td>3032</td>\n",
       "      <td>False</td>\n",
       "      <td>False</td>\n",
       "      <td>0.0</td>\n",
       "      <td>0.0</td>\n",
       "      <td>en</td>\n",
       "      <td>NaN</td>\n",
       "      <td>NaN</td>\n",
       "      <td>NaN</td>\n",
       "      <td>NaN</td>\n",
       "    </tr>\n",
       "  </tbody>\n",
       "</table>\n",
       "</div>"
      ],
      "text/plain": [
       "                    created_at                  id              id_str  \\\n",
       "1131 2016-05-07 00:59:55+00:00  728751179681943552  728751179681943552   \n",
       "\n",
       "                                              full_text  truncated  \\\n",
       "1131  This is Flurpson. He can't believe it's not bu...      False   \n",
       "\n",
       "     display_text_range                                           entities  \\\n",
       "1131            [0, 57]  {'hashtags': [], 'symbols': [], 'user_mentions...   \n",
       "\n",
       "                                      extended_entities  \\\n",
       "1131  {'media': [{'id': 728751174258708481, 'id_str'...   \n",
       "\n",
       "                                                 source  \\\n",
       "1131  <a href=\"http://twitter.com/download/iphone\" r...   \n",
       "\n",
       "      in_reply_to_status_id  in_reply_to_status_id_str  in_reply_to_user_id  \\\n",
       "1131                    NaN                        NaN                  NaN   \n",
       "\n",
       "      in_reply_to_user_id_str in_reply_to_screen_name  \\\n",
       "1131                      NaN                    None   \n",
       "\n",
       "                                                   user  geo  coordinates  \\\n",
       "1131  {'id': 4196983835, 'id_str': '4196983835', 'na...  NaN          NaN   \n",
       "\n",
       "     place  contributors  is_quote_status  retweet_count  favorite_count  \\\n",
       "1131  None           NaN            False            757            3032   \n",
       "\n",
       "      favorited  retweeted  possibly_sensitive  possibly_sensitive_appealable  \\\n",
       "1131      False      False                 0.0                            0.0   \n",
       "\n",
       "     lang retweeted_status  quoted_status_id  quoted_status_id_str  \\\n",
       "1131   en              NaN               NaN                   NaN   \n",
       "\n",
       "     quoted_status  \n",
       "1131           NaN  "
      ]
     },
     "metadata": {},
     "output_type": "display_data"
    }
   ],
   "source": [
    "#LOADING SECOND PIECE OF DATA\n",
    "df_tw = pd.read_json(\"tweet-json.txt\", lines=True)\n",
    "display(df_tw.sample())"
   ]
  },
  {
   "cell_type": "code",
   "execution_count": 9,
   "metadata": {},
   "outputs": [
    {
     "data": {
      "text/html": [
       "<div>\n",
       "<style scoped>\n",
       "    .dataframe tbody tr th:only-of-type {\n",
       "        vertical-align: middle;\n",
       "    }\n",
       "\n",
       "    .dataframe tbody tr th {\n",
       "        vertical-align: top;\n",
       "    }\n",
       "\n",
       "    .dataframe thead th {\n",
       "        text-align: right;\n",
       "    }\n",
       "</style>\n",
       "<table border=\"1\" class=\"dataframe\">\n",
       "  <thead>\n",
       "    <tr style=\"text-align: right;\">\n",
       "      <th></th>\n",
       "      <th>created_at</th>\n",
       "      <th>id</th>\n",
       "      <th>id_str</th>\n",
       "      <th>full_text</th>\n",
       "      <th>truncated</th>\n",
       "      <th>display_text_range</th>\n",
       "      <th>entities</th>\n",
       "      <th>extended_entities</th>\n",
       "      <th>source</th>\n",
       "      <th>in_reply_to_status_id</th>\n",
       "      <th>in_reply_to_status_id_str</th>\n",
       "      <th>in_reply_to_user_id</th>\n",
       "      <th>in_reply_to_user_id_str</th>\n",
       "      <th>in_reply_to_screen_name</th>\n",
       "      <th>user</th>\n",
       "      <th>geo</th>\n",
       "      <th>coordinates</th>\n",
       "      <th>place</th>\n",
       "      <th>contributors</th>\n",
       "      <th>is_quote_status</th>\n",
       "      <th>retweet_count</th>\n",
       "      <th>favorite_count</th>\n",
       "      <th>favorited</th>\n",
       "      <th>retweeted</th>\n",
       "      <th>possibly_sensitive</th>\n",
       "      <th>possibly_sensitive_appealable</th>\n",
       "      <th>lang</th>\n",
       "      <th>retweeted_status</th>\n",
       "      <th>quoted_status_id</th>\n",
       "      <th>quoted_status_id_str</th>\n",
       "      <th>quoted_status</th>\n",
       "    </tr>\n",
       "  </thead>\n",
       "  <tbody>\n",
       "    <tr>\n",
       "      <th>1193</th>\n",
       "      <td>Tue Apr 05 18:41:02 +0000 2016</td>\n",
       "      <td>717421804990701568</td>\n",
       "      <td>717421804990701568</td>\n",
       "      <td>This is Ebby. She's a Zimbabwean Feta. Embarra...</td>\n",
       "      <td>False</td>\n",
       "      <td>[0, 130]</td>\n",
       "      <td>{'hashtags': [], 'symbols': [], 'user_mentions...</td>\n",
       "      <td>{'media': [{'id': 717421791472431106, 'id_str'...</td>\n",
       "      <td>&lt;a href=\"http://twitter.com/download/iphone\" r...</td>\n",
       "      <td>NaN</td>\n",
       "      <td>None</td>\n",
       "      <td>NaN</td>\n",
       "      <td>None</td>\n",
       "      <td>None</td>\n",
       "      <td>{'id': 4196983835, 'id_str': '4196983835', 'na...</td>\n",
       "      <td>None</td>\n",
       "      <td>None</td>\n",
       "      <td>None</td>\n",
       "      <td>None</td>\n",
       "      <td>False</td>\n",
       "      <td>945</td>\n",
       "      <td>3446</td>\n",
       "      <td>False</td>\n",
       "      <td>False</td>\n",
       "      <td>False</td>\n",
       "      <td>False</td>\n",
       "      <td>en</td>\n",
       "      <td>NaN</td>\n",
       "      <td>NaN</td>\n",
       "      <td>NaN</td>\n",
       "      <td>NaN</td>\n",
       "    </tr>\n",
       "  </tbody>\n",
       "</table>\n",
       "</div>"
      ],
      "text/plain": [
       "                          created_at                  id              id_str  \\\n",
       "1193  Tue Apr 05 18:41:02 +0000 2016  717421804990701568  717421804990701568   \n",
       "\n",
       "                                              full_text  truncated  \\\n",
       "1193  This is Ebby. She's a Zimbabwean Feta. Embarra...      False   \n",
       "\n",
       "     display_text_range                                           entities  \\\n",
       "1193           [0, 130]  {'hashtags': [], 'symbols': [], 'user_mentions...   \n",
       "\n",
       "                                      extended_entities  \\\n",
       "1193  {'media': [{'id': 717421791472431106, 'id_str'...   \n",
       "\n",
       "                                                 source  \\\n",
       "1193  <a href=\"http://twitter.com/download/iphone\" r...   \n",
       "\n",
       "      in_reply_to_status_id in_reply_to_status_id_str  in_reply_to_user_id  \\\n",
       "1193                    NaN                      None                  NaN   \n",
       "\n",
       "     in_reply_to_user_id_str in_reply_to_screen_name  \\\n",
       "1193                    None                    None   \n",
       "\n",
       "                                                   user   geo coordinates  \\\n",
       "1193  {'id': 4196983835, 'id_str': '4196983835', 'na...  None        None   \n",
       "\n",
       "     place contributors  is_quote_status  retweet_count  favorite_count  \\\n",
       "1193  None         None            False            945            3446   \n",
       "\n",
       "      favorited  retweeted possibly_sensitive possibly_sensitive_appealable  \\\n",
       "1193      False      False              False                         False   \n",
       "\n",
       "     lang retweeted_status  quoted_status_id quoted_status_id_str  \\\n",
       "1193   en              NaN               NaN                  NaN   \n",
       "\n",
       "     quoted_status  \n",
       "1193           NaN  "
      ]
     },
     "metadata": {},
     "output_type": "display_data"
    }
   ],
   "source": [
    "#OTHER WAY n°2\n",
    "data2 = []\n",
    "with open (\"tweet-json.txt\") as file:\n",
    "    for line in file:\n",
    "        data2.append(json.loads(line))\n",
    "        \n",
    "df_tw2 = pd.DataFrame(data2)\n",
    "display(df_tw2.sample())"
   ]
  },
  {
   "cell_type": "code",
   "execution_count": 10,
   "metadata": {},
   "outputs": [
    {
     "data": {
      "text/html": [
       "<div>\n",
       "<style scoped>\n",
       "    .dataframe tbody tr th:only-of-type {\n",
       "        vertical-align: middle;\n",
       "    }\n",
       "\n",
       "    .dataframe tbody tr th {\n",
       "        vertical-align: top;\n",
       "    }\n",
       "\n",
       "    .dataframe thead th {\n",
       "        text-align: right;\n",
       "    }\n",
       "</style>\n",
       "<table border=\"1\" class=\"dataframe\">\n",
       "  <thead>\n",
       "    <tr style=\"text-align: right;\">\n",
       "      <th></th>\n",
       "      <th>created_at</th>\n",
       "      <th>id</th>\n",
       "      <th>id_str</th>\n",
       "      <th>full_text</th>\n",
       "      <th>truncated</th>\n",
       "      <th>display_text_range</th>\n",
       "      <th>entities</th>\n",
       "      <th>extended_entities</th>\n",
       "      <th>source</th>\n",
       "      <th>in_reply_to_status_id</th>\n",
       "      <th>in_reply_to_status_id_str</th>\n",
       "      <th>in_reply_to_user_id</th>\n",
       "      <th>in_reply_to_user_id_str</th>\n",
       "      <th>in_reply_to_screen_name</th>\n",
       "      <th>user</th>\n",
       "      <th>geo</th>\n",
       "      <th>coordinates</th>\n",
       "      <th>place</th>\n",
       "      <th>contributors</th>\n",
       "      <th>is_quote_status</th>\n",
       "      <th>retweet_count</th>\n",
       "      <th>favorite_count</th>\n",
       "      <th>favorited</th>\n",
       "      <th>retweeted</th>\n",
       "      <th>possibly_sensitive</th>\n",
       "      <th>possibly_sensitive_appealable</th>\n",
       "      <th>lang</th>\n",
       "      <th>retweeted_status</th>\n",
       "      <th>quoted_status_id</th>\n",
       "      <th>quoted_status_id_str</th>\n",
       "      <th>quoted_status</th>\n",
       "    </tr>\n",
       "  </thead>\n",
       "  <tbody>\n",
       "    <tr>\n",
       "      <th>99</th>\n",
       "      <td>Thu Jun 08 14:20:41 +0000 2017</td>\n",
       "      <td>872820683541237760</td>\n",
       "      <td>872820683541237760</td>\n",
       "      <td>Here are my favorite #dogsatpollingstations \\n...</td>\n",
       "      <td>False</td>\n",
       "      <td>[0, 140]</td>\n",
       "      <td>{'hashtags': [{'text': 'dogsatpollingstations'...</td>\n",
       "      <td>{'media': [{'id': 872820673743376386, 'id_str'...</td>\n",
       "      <td>&lt;a href=\"http://twitter.com/download/iphone\" r...</td>\n",
       "      <td>NaN</td>\n",
       "      <td>None</td>\n",
       "      <td>NaN</td>\n",
       "      <td>None</td>\n",
       "      <td>None</td>\n",
       "      <td>{'id': 4196983835, 'id_str': '4196983835', 'na...</td>\n",
       "      <td>None</td>\n",
       "      <td>None</td>\n",
       "      <td>None</td>\n",
       "      <td>None</td>\n",
       "      <td>False</td>\n",
       "      <td>3884</td>\n",
       "      <td>15029</td>\n",
       "      <td>False</td>\n",
       "      <td>False</td>\n",
       "      <td>False</td>\n",
       "      <td>False</td>\n",
       "      <td>en</td>\n",
       "      <td>NaN</td>\n",
       "      <td>NaN</td>\n",
       "      <td>NaN</td>\n",
       "      <td>NaN</td>\n",
       "    </tr>\n",
       "  </tbody>\n",
       "</table>\n",
       "</div>"
      ],
      "text/plain": [
       "                        created_at                  id              id_str  \\\n",
       "99  Thu Jun 08 14:20:41 +0000 2017  872820683541237760  872820683541237760   \n",
       "\n",
       "                                            full_text  truncated  \\\n",
       "99  Here are my favorite #dogsatpollingstations \\n...      False   \n",
       "\n",
       "   display_text_range                                           entities  \\\n",
       "99           [0, 140]  {'hashtags': [{'text': 'dogsatpollingstations'...   \n",
       "\n",
       "                                    extended_entities  \\\n",
       "99  {'media': [{'id': 872820673743376386, 'id_str'...   \n",
       "\n",
       "                                               source  in_reply_to_status_id  \\\n",
       "99  <a href=\"http://twitter.com/download/iphone\" r...                    NaN   \n",
       "\n",
       "   in_reply_to_status_id_str  in_reply_to_user_id in_reply_to_user_id_str  \\\n",
       "99                      None                  NaN                    None   \n",
       "\n",
       "   in_reply_to_screen_name                                               user  \\\n",
       "99                    None  {'id': 4196983835, 'id_str': '4196983835', 'na...   \n",
       "\n",
       "     geo coordinates place contributors  is_quote_status  retweet_count  \\\n",
       "99  None        None  None         None            False           3884   \n",
       "\n",
       "    favorite_count  favorited  retweeted possibly_sensitive  \\\n",
       "99           15029      False      False              False   \n",
       "\n",
       "   possibly_sensitive_appealable lang retweeted_status  quoted_status_id  \\\n",
       "99                         False   en              NaN               NaN   \n",
       "\n",
       "   quoted_status_id_str quoted_status  \n",
       "99                  NaN           NaN  "
      ]
     },
     "metadata": {},
     "output_type": "display_data"
    }
   ],
   "source": [
    "#OTHER WAY n°3\n",
    "with open (\"tweet-json.txt\") as file:\n",
    "    data = [json.loads(line) for line in file]\n",
    "\n",
    "df_tw3 = pd.DataFrame(data)\n",
    "display(df_tw3.sample())\n"
   ]
  },
  {
   "cell_type": "code",
   "execution_count": 11,
   "metadata": {},
   "outputs": [
    {
     "data": {
      "text/plain": [
       "bytes"
      ]
     },
     "metadata": {},
     "output_type": "display_data"
    },
    {
     "data": {
      "text/plain": [
       "str"
      ]
     },
     "metadata": {},
     "output_type": "display_data"
    },
    {
     "data": {
      "text/html": [
       "<div>\n",
       "<style scoped>\n",
       "    .dataframe tbody tr th:only-of-type {\n",
       "        vertical-align: middle;\n",
       "    }\n",
       "\n",
       "    .dataframe tbody tr th {\n",
       "        vertical-align: top;\n",
       "    }\n",
       "\n",
       "    .dataframe thead th {\n",
       "        text-align: right;\n",
       "    }\n",
       "</style>\n",
       "<table border=\"1\" class=\"dataframe\">\n",
       "  <thead>\n",
       "    <tr style=\"text-align: right;\">\n",
       "      <th></th>\n",
       "      <th>tweet_id</th>\n",
       "      <th>jpg_url</th>\n",
       "      <th>img_num</th>\n",
       "      <th>p1</th>\n",
       "      <th>p1_conf</th>\n",
       "      <th>p1_dog</th>\n",
       "      <th>p2</th>\n",
       "      <th>p2_conf</th>\n",
       "      <th>p2_dog</th>\n",
       "      <th>p3</th>\n",
       "      <th>p3_conf</th>\n",
       "      <th>p3_dog</th>\n",
       "    </tr>\n",
       "  </thead>\n",
       "  <tbody>\n",
       "    <tr>\n",
       "      <th>1553</th>\n",
       "      <td>793165685325201412</td>\n",
       "      <td>https://pbs.twimg.com/media/CwHj-jGWAAAnsny.jpg</td>\n",
       "      <td>1</td>\n",
       "      <td>golden_retriever</td>\n",
       "      <td>0.946224</td>\n",
       "      <td>True</td>\n",
       "      <td>Labrador_retriever</td>\n",
       "      <td>0.036477</td>\n",
       "      <td>True</td>\n",
       "      <td>doormat</td>\n",
       "      <td>0.002353</td>\n",
       "      <td>False</td>\n",
       "    </tr>\n",
       "  </tbody>\n",
       "</table>\n",
       "</div>"
      ],
      "text/plain": [
       "                tweet_id                                          jpg_url  \\\n",
       "1553  793165685325201412  https://pbs.twimg.com/media/CwHj-jGWAAAnsny.jpg   \n",
       "\n",
       "      img_num                p1   p1_conf  p1_dog                  p2  \\\n",
       "1553        1  golden_retriever  0.946224    True  Labrador_retriever   \n",
       "\n",
       "       p2_conf  p2_dog       p3   p3_conf  p3_dog  \n",
       "1553  0.036477    True  doormat  0.002353   False  "
      ]
     },
     "metadata": {},
     "output_type": "display_data"
    }
   ],
   "source": [
    "#LOADING THIRD PIECE OF DATA\n",
    "\n",
    "url = \"https://video.udacity-data.com/topher/2018/November/5bf60c69_image-predictions-3/image-predictions-3.tsv\"\n",
    "response = requests.get(url)\n",
    "\n",
    "#CHECKING DATATYPE:\n",
    "display(type(response.content))\n",
    "display(type(response.text))\n",
    "\n",
    "df_ip = pd.read_csv(StringIO(response.text), sep=\"\\t\")\n",
    "display(df_ip.sample())"
   ]
  },
  {
   "cell_type": "code",
   "execution_count": 12,
   "metadata": {},
   "outputs": [
    {
     "data": {
      "text/html": [
       "<div>\n",
       "<style scoped>\n",
       "    .dataframe tbody tr th:only-of-type {\n",
       "        vertical-align: middle;\n",
       "    }\n",
       "\n",
       "    .dataframe tbody tr th {\n",
       "        vertical-align: top;\n",
       "    }\n",
       "\n",
       "    .dataframe thead th {\n",
       "        text-align: right;\n",
       "    }\n",
       "</style>\n",
       "<table border=\"1\" class=\"dataframe\">\n",
       "  <thead>\n",
       "    <tr style=\"text-align: right;\">\n",
       "      <th></th>\n",
       "      <th>tweet_id</th>\n",
       "      <th>jpg_url</th>\n",
       "      <th>img_num</th>\n",
       "      <th>p1</th>\n",
       "      <th>p1_conf</th>\n",
       "      <th>p1_dog</th>\n",
       "      <th>p2</th>\n",
       "      <th>p2_conf</th>\n",
       "      <th>p2_dog</th>\n",
       "      <th>p3</th>\n",
       "      <th>p3_conf</th>\n",
       "      <th>p3_dog</th>\n",
       "    </tr>\n",
       "  </thead>\n",
       "  <tbody>\n",
       "    <tr>\n",
       "      <th>689</th>\n",
       "      <td>684188786104872960</td>\n",
       "      <td>https://pbs.twimg.com/media/CX66EiJWkAAVjA-.jpg</td>\n",
       "      <td>1</td>\n",
       "      <td>kelpie</td>\n",
       "      <td>0.537782</td>\n",
       "      <td>True</td>\n",
       "      <td>American_Staffordshire_terrier</td>\n",
       "      <td>0.082953</td>\n",
       "      <td>True</td>\n",
       "      <td>Staffordshire_bullterrier</td>\n",
       "      <td>0.06976</td>\n",
       "      <td>True</td>\n",
       "    </tr>\n",
       "  </tbody>\n",
       "</table>\n",
       "</div>"
      ],
      "text/plain": [
       "               tweet_id                                          jpg_url  \\\n",
       "689  684188786104872960  https://pbs.twimg.com/media/CX66EiJWkAAVjA-.jpg   \n",
       "\n",
       "     img_num      p1   p1_conf  p1_dog                              p2  \\\n",
       "689        1  kelpie  0.537782    True  American_Staffordshire_terrier   \n",
       "\n",
       "      p2_conf  p2_dog                         p3  p3_conf  p3_dog  \n",
       "689  0.082953    True  Staffordshire_bullterrier  0.06976    True  "
      ]
     },
     "execution_count": 12,
     "metadata": {},
     "output_type": "execute_result"
    }
   ],
   "source": [
    "#OTHER WAY:\n",
    "with open (\"image_file.tsv\", \"wb\") as file3:\n",
    "    file3.write(response.content)\n",
    "\n",
    "df_ip2 = pd.read_csv(\"image_file.tsv\", sep=\"\\t\")\n",
    "df_ip2.sample()\n"
   ]
  },
  {
   "cell_type": "markdown",
   "metadata": {},
   "source": [
    "# Assesing and Cleaning\n",
    "\n",
    "Getting insights manually and programatically from dataframes."
   ]
  },
  {
   "cell_type": "markdown",
   "metadata": {},
   "source": [
    "After gathering each of the above pieces of data, assess them visually and programmatically for quality and tidiness issues. Detect and document at least eight (8) quality issues and two (2) tidiness issues in your wrangle_act.ipynb Jupyter Notebook. To meet specifications, the issues that satisfy the Project Motivation (see the Key Points header on the previous page) must be assessed."
   ]
  },
  {
   "cell_type": "markdown",
   "metadata": {},
   "source": [
    "### Quality Issues:\n",
    "\n",
    "Issues for \"df_eta\" from - \"twitter-archive-enhanced-2.csv\"\n",
    "\n",
    "1. The \"timestamp\" column as a string should be changed as datetime data type.\n",
    "2. We should eliminate  Retweets Records because we don't need retweets, and we have 181.\n",
    "3. In \"doggo\", \"floofer\", \"pupper\", \"puppo\" are many null values but marked as \"None\" string value. I will replace with NaN to get the real number of null values.\n",
    "4. In \"name\" column we have the same as previous, many null values but marked as \"None\" string value. I will replace with NaN. \n",
    "5. In \"name\" column we have 55 \"a\" values, I will mark as NaN to consider as null values.\n",
    "6. There are 14 rows that has 2 categories of dog stage (doggo, floofer, pupper, puppo) so to correct I will give a \"None\" value.\n",
    "7. We have 59 NaN values in expanded URL column, as we know the value is \"https://twitter...\" + tweet_id, I will complete them.\n",
    "8. Delete the 1% of outliers from \"rating_numerator\" column"
   ]
  },
  {
   "cell_type": "markdown",
   "metadata": {},
   "source": [
    "### Tidiness Issues:\n",
    "\n",
    "1. Dataframe \"df_eta\" contain 4 columns for one variable. We will create a new column named \"stage\" for this variable and delete the other 4 columns\n",
    "2. We have the same identifier for 3 dataframe, so we can merge in just one."
   ]
  },
  {
   "cell_type": "code",
   "execution_count": 13,
   "metadata": {},
   "outputs": [
    {
     "name": "stdout",
     "output_type": "stream",
     "text": [
      "<class 'pandas.core.frame.DataFrame'>\n",
      "RangeIndex: 2356 entries, 0 to 2355\n",
      "Data columns (total 17 columns):\n",
      " #   Column                      Non-Null Count  Dtype  \n",
      "---  ------                      --------------  -----  \n",
      " 0   tweet_id                    2356 non-null   int64  \n",
      " 1   in_reply_to_status_id       78 non-null     float64\n",
      " 2   in_reply_to_user_id         78 non-null     float64\n",
      " 3   timestamp                   2356 non-null   object \n",
      " 4   source                      2356 non-null   object \n",
      " 5   text                        2356 non-null   object \n",
      " 6   retweeted_status_id         181 non-null    float64\n",
      " 7   retweeted_status_user_id    181 non-null    float64\n",
      " 8   retweeted_status_timestamp  181 non-null    object \n",
      " 9   expanded_urls               2297 non-null   object \n",
      " 10  rating_numerator            2356 non-null   int64  \n",
      " 11  rating_denominator          2356 non-null   int64  \n",
      " 12  name                        2356 non-null   object \n",
      " 13  doggo                       2356 non-null   object \n",
      " 14  floofer                     2356 non-null   object \n",
      " 15  pupper                      2356 non-null   object \n",
      " 16  puppo                       2356 non-null   object \n",
      "dtypes: float64(4), int64(3), object(10)\n",
      "memory usage: 313.0+ KB\n"
     ]
    },
    {
     "data": {
      "text/plain": [
       "None"
      ]
     },
     "metadata": {},
     "output_type": "display_data"
    },
    {
     "data": {
      "text/html": [
       "<div>\n",
       "<style scoped>\n",
       "    .dataframe tbody tr th:only-of-type {\n",
       "        vertical-align: middle;\n",
       "    }\n",
       "\n",
       "    .dataframe tbody tr th {\n",
       "        vertical-align: top;\n",
       "    }\n",
       "\n",
       "    .dataframe thead th {\n",
       "        text-align: right;\n",
       "    }\n",
       "</style>\n",
       "<table border=\"1\" class=\"dataframe\">\n",
       "  <thead>\n",
       "    <tr style=\"text-align: right;\">\n",
       "      <th></th>\n",
       "      <th>tweet_id</th>\n",
       "      <th>in_reply_to_status_id</th>\n",
       "      <th>in_reply_to_user_id</th>\n",
       "      <th>timestamp</th>\n",
       "      <th>source</th>\n",
       "      <th>text</th>\n",
       "      <th>retweeted_status_id</th>\n",
       "      <th>retweeted_status_user_id</th>\n",
       "      <th>retweeted_status_timestamp</th>\n",
       "      <th>expanded_urls</th>\n",
       "      <th>rating_numerator</th>\n",
       "      <th>rating_denominator</th>\n",
       "      <th>name</th>\n",
       "      <th>doggo</th>\n",
       "      <th>floofer</th>\n",
       "      <th>pupper</th>\n",
       "      <th>puppo</th>\n",
       "    </tr>\n",
       "  </thead>\n",
       "  <tbody>\n",
       "    <tr>\n",
       "      <th>340</th>\n",
       "      <td>832215909146226688</td>\n",
       "      <td>NaN</td>\n",
       "      <td>NaN</td>\n",
       "      <td>2017-02-16 13:11:49 +0000</td>\n",
       "      <td>&lt;a href=\"http://twitter.com/download/iphone\" r...</td>\n",
       "      <td>RT @dog_rates: This is Logan, the Chow who liv...</td>\n",
       "      <td>7.867091e+17</td>\n",
       "      <td>4.196984e+09</td>\n",
       "      <td>2016-10-13 23:23:56 +0000</td>\n",
       "      <td>https://twitter.com/dog_rates/status/786709082...</td>\n",
       "      <td>75</td>\n",
       "      <td>10</td>\n",
       "      <td>Logan</td>\n",
       "      <td>None</td>\n",
       "      <td>None</td>\n",
       "      <td>None</td>\n",
       "      <td>None</td>\n",
       "    </tr>\n",
       "  </tbody>\n",
       "</table>\n",
       "</div>"
      ],
      "text/plain": [
       "               tweet_id  in_reply_to_status_id  in_reply_to_user_id  \\\n",
       "340  832215909146226688                    NaN                  NaN   \n",
       "\n",
       "                     timestamp  \\\n",
       "340  2017-02-16 13:11:49 +0000   \n",
       "\n",
       "                                                source  \\\n",
       "340  <a href=\"http://twitter.com/download/iphone\" r...   \n",
       "\n",
       "                                                  text  retweeted_status_id  \\\n",
       "340  RT @dog_rates: This is Logan, the Chow who liv...         7.867091e+17   \n",
       "\n",
       "     retweeted_status_user_id retweeted_status_timestamp  \\\n",
       "340              4.196984e+09  2016-10-13 23:23:56 +0000   \n",
       "\n",
       "                                         expanded_urls  rating_numerator  \\\n",
       "340  https://twitter.com/dog_rates/status/786709082...                75   \n",
       "\n",
       "     rating_denominator   name doggo floofer pupper puppo  \n",
       "340                  10  Logan  None    None   None  None  "
      ]
     },
     "metadata": {},
     "output_type": "display_data"
    },
    {
     "data": {
      "text/plain": [
       "12      558\n",
       "11      464\n",
       "10      461\n",
       "13      351\n",
       "9       158\n",
       "8       102\n",
       "7        55\n",
       "14       54\n",
       "5        37\n",
       "6        32\n",
       "3        19\n",
       "4        17\n",
       "1         9\n",
       "2         9\n",
       "420       2\n",
       "0         2\n",
       "15        2\n",
       "75        2\n",
       "80        1\n",
       "20        1\n",
       "24        1\n",
       "26        1\n",
       "44        1\n",
       "50        1\n",
       "60        1\n",
       "165       1\n",
       "84        1\n",
       "88        1\n",
       "144       1\n",
       "182       1\n",
       "143       1\n",
       "666       1\n",
       "960       1\n",
       "1776      1\n",
       "17        1\n",
       "27        1\n",
       "45        1\n",
       "99        1\n",
       "121       1\n",
       "204       1\n",
       "Name: rating_numerator, dtype: int64"
      ]
     },
     "metadata": {},
     "output_type": "display_data"
    },
    {
     "data": {
      "text/plain": [
       "None       745\n",
       "a           55\n",
       "Charlie     12\n",
       "Lucy        11\n",
       "Oliver      11\n",
       "          ... \n",
       "Pete         1\n",
       "Aqua         1\n",
       "Dale         1\n",
       "Josep        1\n",
       "Rumble       1\n",
       "Name: name, Length: 957, dtype: int64"
      ]
     },
     "metadata": {},
     "output_type": "display_data"
    },
    {
     "data": {
      "text/plain": [
       "59"
      ]
     },
     "metadata": {},
     "output_type": "display_data"
    }
   ],
   "source": [
    "display(df_eta.info())\n",
    "display(df_eta[df_eta.tweet_id == 832215909146226688])\n",
    "#As we can see, when retweet_status_id is not null, it means it's a retweet.\n",
    "\n",
    "display(df_eta.rating_numerator.value_counts())\n",
    "#99% of rating numerator are into range: [0,14] I will delete this 1% of outliers.\n",
    "\n",
    "display(df_eta.name.value_counts())\n",
    "#55 observations with \"a\" value for name column\n",
    "\n",
    "display(sum(df_eta.expanded_urls.isnull()))\n",
    "#59 observations with null value in \"expanded_urls\""
   ]
  },
  {
   "cell_type": "markdown",
   "metadata": {},
   "source": [
    "# Quality Issue:\n",
    "The \"timestamp\" column as a string should be changed as datetime data type.\n",
    "\n",
    "#### Define:\n",
    "Change data type from string to datetime.\n"
   ]
  },
  {
   "cell_type": "markdown",
   "metadata": {},
   "source": [
    "#### Code:"
   ]
  },
  {
   "cell_type": "code",
   "execution_count": 14,
   "metadata": {},
   "outputs": [],
   "source": [
    "#Making a copy:\n",
    "df_eta_clean = df_eta.copy()\n",
    "\n",
    "#Change data type from \"timestamp\" column:\n",
    "df_eta_clean[\"timestamp\"] = pd.to_datetime(df_eta_clean[\"timestamp\"])\n"
   ]
  },
  {
   "cell_type": "markdown",
   "metadata": {},
   "source": [
    "#### Test:"
   ]
  },
  {
   "cell_type": "code",
   "execution_count": 15,
   "metadata": {},
   "outputs": [
    {
     "name": "stdout",
     "output_type": "stream",
     "text": [
      "<class 'pandas.core.frame.DataFrame'>\n",
      "RangeIndex: 2356 entries, 0 to 2355\n",
      "Data columns (total 17 columns):\n",
      " #   Column                      Non-Null Count  Dtype              \n",
      "---  ------                      --------------  -----              \n",
      " 0   tweet_id                    2356 non-null   int64              \n",
      " 1   in_reply_to_status_id       78 non-null     float64            \n",
      " 2   in_reply_to_user_id         78 non-null     float64            \n",
      " 3   timestamp                   2356 non-null   datetime64[ns, UTC]\n",
      " 4   source                      2356 non-null   object             \n",
      " 5   text                        2356 non-null   object             \n",
      " 6   retweeted_status_id         181 non-null    float64            \n",
      " 7   retweeted_status_user_id    181 non-null    float64            \n",
      " 8   retweeted_status_timestamp  181 non-null    object             \n",
      " 9   expanded_urls               2297 non-null   object             \n",
      " 10  rating_numerator            2356 non-null   int64              \n",
      " 11  rating_denominator          2356 non-null   int64              \n",
      " 12  name                        2356 non-null   object             \n",
      " 13  doggo                       2356 non-null   object             \n",
      " 14  floofer                     2356 non-null   object             \n",
      " 15  pupper                      2356 non-null   object             \n",
      " 16  puppo                       2356 non-null   object             \n",
      "dtypes: datetime64[ns, UTC](1), float64(4), int64(3), object(9)\n",
      "memory usage: 313.0+ KB\n"
     ]
    }
   ],
   "source": [
    "#Checking the new data type:\n",
    "df_eta_clean.info()"
   ]
  },
  {
   "cell_type": "markdown",
   "metadata": {},
   "source": [
    "# Quality Issue:\n",
    "In \"name\" column we have many null values but marked as \"None\" string value. I will replace with NaN. \n",
    "\n",
    "#### Define:\n",
    "Select columns with \"None\" value and replace with NaN using numpy"
   ]
  },
  {
   "cell_type": "markdown",
   "metadata": {},
   "source": [
    "#### Code:"
   ]
  },
  {
   "cell_type": "code",
   "execution_count": 16,
   "metadata": {},
   "outputs": [],
   "source": [
    "#Changing \"None\" per NaN value:\n",
    "df_eta_clean.loc[df_eta_clean[\"name\"]==\"None\",\"name\"]=np.nan\n"
   ]
  },
  {
   "cell_type": "markdown",
   "metadata": {},
   "source": [
    "#### Test:"
   ]
  },
  {
   "cell_type": "code",
   "execution_count": 17,
   "metadata": {},
   "outputs": [
    {
     "name": "stdout",
     "output_type": "stream",
     "text": [
      "<class 'pandas.core.frame.DataFrame'>\n",
      "RangeIndex: 2356 entries, 0 to 2355\n",
      "Data columns (total 17 columns):\n",
      " #   Column                      Non-Null Count  Dtype              \n",
      "---  ------                      --------------  -----              \n",
      " 0   tweet_id                    2356 non-null   int64              \n",
      " 1   in_reply_to_status_id       78 non-null     float64            \n",
      " 2   in_reply_to_user_id         78 non-null     float64            \n",
      " 3   timestamp                   2356 non-null   datetime64[ns, UTC]\n",
      " 4   source                      2356 non-null   object             \n",
      " 5   text                        2356 non-null   object             \n",
      " 6   retweeted_status_id         181 non-null    float64            \n",
      " 7   retweeted_status_user_id    181 non-null    float64            \n",
      " 8   retweeted_status_timestamp  181 non-null    object             \n",
      " 9   expanded_urls               2297 non-null   object             \n",
      " 10  rating_numerator            2356 non-null   int64              \n",
      " 11  rating_denominator          2356 non-null   int64              \n",
      " 12  name                        1611 non-null   object             \n",
      " 13  doggo                       2356 non-null   object             \n",
      " 14  floofer                     2356 non-null   object             \n",
      " 15  pupper                      2356 non-null   object             \n",
      " 16  puppo                       2356 non-null   object             \n",
      "dtypes: datetime64[ns, UTC](1), float64(4), int64(3), object(9)\n",
      "memory usage: 313.0+ KB\n"
     ]
    }
   ],
   "source": [
    "df_eta_clean.info()\n",
    "#Now we know that we've just 1611 observations with not null values in name column."
   ]
  },
  {
   "cell_type": "markdown",
   "metadata": {},
   "source": [
    "# Quality Issue:\n",
    "In \"name\" column we have 55 \"a\" values, I will mark as NaN to consider as null values.\n",
    "\n",
    "#### Define:\n",
    "Select columns with \"a\" value and replace with NaN using numpy\n",
    "\n"
   ]
  },
  {
   "cell_type": "markdown",
   "metadata": {},
   "source": [
    "#### Code:"
   ]
  },
  {
   "cell_type": "code",
   "execution_count": 18,
   "metadata": {},
   "outputs": [],
   "source": [
    "#Changing \"a\" per NaN value:\n",
    "df_eta_clean.loc[df_eta_clean[\"name\"]==\"a\",\"name\"]=np.nan"
   ]
  },
  {
   "cell_type": "markdown",
   "metadata": {},
   "source": [
    "#### Test:"
   ]
  },
  {
   "cell_type": "code",
   "execution_count": 19,
   "metadata": {},
   "outputs": [
    {
     "name": "stdout",
     "output_type": "stream",
     "text": [
      "<class 'pandas.core.frame.DataFrame'>\n",
      "RangeIndex: 2356 entries, 0 to 2355\n",
      "Data columns (total 17 columns):\n",
      " #   Column                      Non-Null Count  Dtype              \n",
      "---  ------                      --------------  -----              \n",
      " 0   tweet_id                    2356 non-null   int64              \n",
      " 1   in_reply_to_status_id       78 non-null     float64            \n",
      " 2   in_reply_to_user_id         78 non-null     float64            \n",
      " 3   timestamp                   2356 non-null   datetime64[ns, UTC]\n",
      " 4   source                      2356 non-null   object             \n",
      " 5   text                        2356 non-null   object             \n",
      " 6   retweeted_status_id         181 non-null    float64            \n",
      " 7   retweeted_status_user_id    181 non-null    float64            \n",
      " 8   retweeted_status_timestamp  181 non-null    object             \n",
      " 9   expanded_urls               2297 non-null   object             \n",
      " 10  rating_numerator            2356 non-null   int64              \n",
      " 11  rating_denominator          2356 non-null   int64              \n",
      " 12  name                        1556 non-null   object             \n",
      " 13  doggo                       2356 non-null   object             \n",
      " 14  floofer                     2356 non-null   object             \n",
      " 15  pupper                      2356 non-null   object             \n",
      " 16  puppo                       2356 non-null   object             \n",
      "dtypes: datetime64[ns, UTC](1), float64(4), int64(3), object(9)\n",
      "memory usage: 313.0+ KB\n"
     ]
    }
   ],
   "source": [
    "df_eta_clean.info()\n",
    "#Now we know that we've just 1556 observations with not null values in name column."
   ]
  },
  {
   "cell_type": "markdown",
   "metadata": {},
   "source": [
    "# Tidiness Issue:\n",
    "Dataframe \"df_eta\" contain 4 columns for one variable. We will create a new column named \"stage\" for this variable and delete the other 4 columns\n",
    "\n",
    "#### Define:\n",
    "Replace \"None\" values per an empty value and concat all values in a new column\n"
   ]
  },
  {
   "cell_type": "markdown",
   "metadata": {},
   "source": [
    "#### Code:"
   ]
  },
  {
   "cell_type": "code",
   "execution_count": 20,
   "metadata": {},
   "outputs": [],
   "source": [
    "#Merging columns N° 13,14,15,16 in just one \"stage\" column:\n",
    "df_eta_clean[\"stage\"] = df_eta_clean[\"doggo\"].replace(\"None\",\"\") + df_eta_clean[\"floofer\"].replace(\"None\",\"\") + df_eta_clean[\"pupper\"].replace(\"None\",\"\") + df_eta_clean[\"puppo\"].replace(\"None\",\"\")\n"
   ]
  },
  {
   "cell_type": "markdown",
   "metadata": {},
   "source": [
    "#### Test:"
   ]
  },
  {
   "cell_type": "code",
   "execution_count": 21,
   "metadata": {},
   "outputs": [
    {
     "data": {
      "text/html": [
       "<div>\n",
       "<style scoped>\n",
       "    .dataframe tbody tr th:only-of-type {\n",
       "        vertical-align: middle;\n",
       "    }\n",
       "\n",
       "    .dataframe tbody tr th {\n",
       "        vertical-align: top;\n",
       "    }\n",
       "\n",
       "    .dataframe thead th {\n",
       "        text-align: right;\n",
       "    }\n",
       "</style>\n",
       "<table border=\"1\" class=\"dataframe\">\n",
       "  <thead>\n",
       "    <tr style=\"text-align: right;\">\n",
       "      <th></th>\n",
       "      <th>tweet_id</th>\n",
       "      <th>in_reply_to_status_id</th>\n",
       "      <th>in_reply_to_user_id</th>\n",
       "      <th>timestamp</th>\n",
       "      <th>source</th>\n",
       "      <th>text</th>\n",
       "      <th>retweeted_status_id</th>\n",
       "      <th>retweeted_status_user_id</th>\n",
       "      <th>retweeted_status_timestamp</th>\n",
       "      <th>expanded_urls</th>\n",
       "      <th>rating_numerator</th>\n",
       "      <th>rating_denominator</th>\n",
       "      <th>name</th>\n",
       "      <th>doggo</th>\n",
       "      <th>floofer</th>\n",
       "      <th>pupper</th>\n",
       "      <th>puppo</th>\n",
       "      <th>stage</th>\n",
       "    </tr>\n",
       "  </thead>\n",
       "  <tbody>\n",
       "    <tr>\n",
       "      <th>1210</th>\n",
       "      <td>715680795826982913</td>\n",
       "      <td>NaN</td>\n",
       "      <td>NaN</td>\n",
       "      <td>2016-03-31 23:22:53+00:00</td>\n",
       "      <td>&lt;a href=\"http://twitter.com/download/iphone\" r...</td>\n",
       "      <td>This is Zeus. He's downright fabulous. 12/10 h...</td>\n",
       "      <td>NaN</td>\n",
       "      <td>NaN</td>\n",
       "      <td>NaN</td>\n",
       "      <td>https://twitter.com/dog_rates/status/715680795...</td>\n",
       "      <td>12</td>\n",
       "      <td>10</td>\n",
       "      <td>Zeus</td>\n",
       "      <td>None</td>\n",
       "      <td>None</td>\n",
       "      <td>None</td>\n",
       "      <td>None</td>\n",
       "      <td></td>\n",
       "    </tr>\n",
       "  </tbody>\n",
       "</table>\n",
       "</div>"
      ],
      "text/plain": [
       "                tweet_id  in_reply_to_status_id  in_reply_to_user_id  \\\n",
       "1210  715680795826982913                    NaN                  NaN   \n",
       "\n",
       "                     timestamp  \\\n",
       "1210 2016-03-31 23:22:53+00:00   \n",
       "\n",
       "                                                 source  \\\n",
       "1210  <a href=\"http://twitter.com/download/iphone\" r...   \n",
       "\n",
       "                                                   text  retweeted_status_id  \\\n",
       "1210  This is Zeus. He's downright fabulous. 12/10 h...                  NaN   \n",
       "\n",
       "      retweeted_status_user_id retweeted_status_timestamp  \\\n",
       "1210                       NaN                        NaN   \n",
       "\n",
       "                                          expanded_urls  rating_numerator  \\\n",
       "1210  https://twitter.com/dog_rates/status/715680795...                12   \n",
       "\n",
       "      rating_denominator  name doggo floofer pupper puppo stage  \n",
       "1210                  10  Zeus  None    None   None  None        "
      ]
     },
     "execution_count": 21,
     "metadata": {},
     "output_type": "execute_result"
    }
   ],
   "source": [
    "df_eta_clean.sample()"
   ]
  },
  {
   "cell_type": "markdown",
   "metadata": {},
   "source": [
    "# Quality Issue:\n",
    "Empty values into \"stage\" column and 4 useless columns.\n",
    "\n",
    "#### Define:\n",
    "Replace Empty values per Null values and delete the 4 old columns\n"
   ]
  },
  {
   "cell_type": "markdown",
   "metadata": {},
   "source": [
    "#### Code:"
   ]
  },
  {
   "cell_type": "code",
   "execution_count": 22,
   "metadata": {},
   "outputs": [],
   "source": [
    "#Replacing empty values per NaN in the new stage column:\n",
    "df_eta_clean[\"stage\"] = df_eta_clean[\"stage\"].replace(\"\",np.nan)\n",
    "#Deleting old columns:\n",
    "df_eta_clean = df_eta_clean.drop(columns=[\"doggo\",\"floofer\",\"pupper\",\"puppo\"])\n"
   ]
  },
  {
   "cell_type": "markdown",
   "metadata": {},
   "source": [
    "#### Test:"
   ]
  },
  {
   "cell_type": "code",
   "execution_count": 23,
   "metadata": {},
   "outputs": [
    {
     "name": "stdout",
     "output_type": "stream",
     "text": [
      "<class 'pandas.core.frame.DataFrame'>\n",
      "RangeIndex: 2356 entries, 0 to 2355\n",
      "Data columns (total 14 columns):\n",
      " #   Column                      Non-Null Count  Dtype              \n",
      "---  ------                      --------------  -----              \n",
      " 0   tweet_id                    2356 non-null   int64              \n",
      " 1   in_reply_to_status_id       78 non-null     float64            \n",
      " 2   in_reply_to_user_id         78 non-null     float64            \n",
      " 3   timestamp                   2356 non-null   datetime64[ns, UTC]\n",
      " 4   source                      2356 non-null   object             \n",
      " 5   text                        2356 non-null   object             \n",
      " 6   retweeted_status_id         181 non-null    float64            \n",
      " 7   retweeted_status_user_id    181 non-null    float64            \n",
      " 8   retweeted_status_timestamp  181 non-null    object             \n",
      " 9   expanded_urls               2297 non-null   object             \n",
      " 10  rating_numerator            2356 non-null   int64              \n",
      " 11  rating_denominator          2356 non-null   int64              \n",
      " 12  name                        1556 non-null   object             \n",
      " 13  stage                       380 non-null    object             \n",
      "dtypes: datetime64[ns, UTC](1), float64(4), int64(3), object(6)\n",
      "memory usage: 257.8+ KB\n"
     ]
    },
    {
     "data": {
      "text/plain": [
       "pupper          245\n",
       "doggo            83\n",
       "puppo            29\n",
       "doggopupper      12\n",
       "floofer           9\n",
       "doggopuppo        1\n",
       "doggofloofer      1\n",
       "Name: stage, dtype: int64"
      ]
     },
     "metadata": {},
     "output_type": "display_data"
    }
   ],
   "source": [
    "#Checking the new dataframe:\n",
    "df_eta_clean.info()\n",
    "#Cheking stage values:\n",
    "display(df_eta_clean[\"stage\"].value_counts())"
   ]
  },
  {
   "cell_type": "markdown",
   "metadata": {},
   "source": [
    "# Quality Issue:\n",
    "We can see doggopupper, doggofloofer, doggopuppo values in stage column  (2x) stages in one observation.\n",
    "\n",
    "#### Define:\n",
    "Replace all this values per NaN values."
   ]
  },
  {
   "cell_type": "markdown",
   "metadata": {},
   "source": [
    "#### Code:"
   ]
  },
  {
   "cell_type": "code",
   "execution_count": 24,
   "metadata": {},
   "outputs": [],
   "source": [
    "#Replacing (2x)stages values per NaN value:\n",
    "df_eta_clean[\"stage\"] = df_eta_clean[\"stage\"].replace(\"doggopupper\",np.nan)\n",
    "df_eta_clean[\"stage\"] = df_eta_clean[\"stage\"].replace(\"doggofloofer\",np.nan)\n",
    "df_eta_clean[\"stage\"] = df_eta_clean[\"stage\"].replace(\"doggopuppo\",np.nan)"
   ]
  },
  {
   "cell_type": "markdown",
   "metadata": {},
   "source": [
    "#### Test:"
   ]
  },
  {
   "cell_type": "code",
   "execution_count": 25,
   "metadata": {},
   "outputs": [
    {
     "data": {
      "text/plain": [
       "pupper     245\n",
       "doggo       83\n",
       "puppo       29\n",
       "floofer      9\n",
       "Name: stage, dtype: int64"
      ]
     },
     "metadata": {},
     "output_type": "display_data"
    },
    {
     "data": {
      "text/html": [
       "<div>\n",
       "<style scoped>\n",
       "    .dataframe tbody tr th:only-of-type {\n",
       "        vertical-align: middle;\n",
       "    }\n",
       "\n",
       "    .dataframe tbody tr th {\n",
       "        vertical-align: top;\n",
       "    }\n",
       "\n",
       "    .dataframe thead th {\n",
       "        text-align: right;\n",
       "    }\n",
       "</style>\n",
       "<table border=\"1\" class=\"dataframe\">\n",
       "  <thead>\n",
       "    <tr style=\"text-align: right;\">\n",
       "      <th></th>\n",
       "      <th>tweet_id</th>\n",
       "      <th>in_reply_to_status_id</th>\n",
       "      <th>in_reply_to_user_id</th>\n",
       "      <th>timestamp</th>\n",
       "      <th>source</th>\n",
       "      <th>text</th>\n",
       "      <th>retweeted_status_id</th>\n",
       "      <th>retweeted_status_user_id</th>\n",
       "      <th>retweeted_status_timestamp</th>\n",
       "      <th>expanded_urls</th>\n",
       "      <th>rating_numerator</th>\n",
       "      <th>rating_denominator</th>\n",
       "      <th>name</th>\n",
       "      <th>stage</th>\n",
       "    </tr>\n",
       "  </thead>\n",
       "  <tbody>\n",
       "    <tr>\n",
       "      <th>326</th>\n",
       "      <td>833826103416520705</td>\n",
       "      <td>NaN</td>\n",
       "      <td>NaN</td>\n",
       "      <td>2017-02-20 23:50:09+00:00</td>\n",
       "      <td>&lt;a href=\"http://twitter.com/download/iphone\" r...</td>\n",
       "      <td>Meet Charlie. She asked u to change the channe...</td>\n",
       "      <td>NaN</td>\n",
       "      <td>NaN</td>\n",
       "      <td>NaN</td>\n",
       "      <td>https://twitter.com/dog_rates/status/833826103...</td>\n",
       "      <td>13</td>\n",
       "      <td>10</td>\n",
       "      <td>Charlie</td>\n",
       "      <td>NaN</td>\n",
       "    </tr>\n",
       "  </tbody>\n",
       "</table>\n",
       "</div>"
      ],
      "text/plain": [
       "               tweet_id  in_reply_to_status_id  in_reply_to_user_id  \\\n",
       "326  833826103416520705                    NaN                  NaN   \n",
       "\n",
       "                    timestamp  \\\n",
       "326 2017-02-20 23:50:09+00:00   \n",
       "\n",
       "                                                source  \\\n",
       "326  <a href=\"http://twitter.com/download/iphone\" r...   \n",
       "\n",
       "                                                  text  retweeted_status_id  \\\n",
       "326  Meet Charlie. She asked u to change the channe...                  NaN   \n",
       "\n",
       "     retweeted_status_user_id retweeted_status_timestamp  \\\n",
       "326                       NaN                        NaN   \n",
       "\n",
       "                                         expanded_urls  rating_numerator  \\\n",
       "326  https://twitter.com/dog_rates/status/833826103...                13   \n",
       "\n",
       "     rating_denominator     name stage  \n",
       "326                  10  Charlie   NaN  "
      ]
     },
     "execution_count": 25,
     "metadata": {},
     "output_type": "execute_result"
    }
   ],
   "source": [
    "#Checking new dataframe:\n",
    "display(df_eta_clean[\"stage\"].value_counts())\n",
    "df_eta_clean.sample()"
   ]
  },
  {
   "cell_type": "markdown",
   "metadata": {},
   "source": [
    "# Quality Issue:\n",
    "We should eliminate  Retweets Records because we don't need retweets, and we have 181.\n",
    "\n",
    "#### Define:\n",
    "Delete all rows that has value (not blank or not-null) retweeted related columns (retweeted_status_id, retweeted_status_user_id, retweeted_status_timestamp)"
   ]
  },
  {
   "cell_type": "code",
   "execution_count": 26,
   "metadata": {
    "scrolled": true
   },
   "outputs": [],
   "source": [
    "df_eta_clean = df_eta_clean[df_eta_clean[\"retweeted_status_id\"].isnull()]\n",
    "df_eta_clean = df_eta_clean[df_eta_clean[\"retweeted_status_user_id\"].isnull()]\n",
    "df_eta_clean = df_eta_clean[df_eta_clean[\"retweeted_status_timestamp\"].isnull()]"
   ]
  },
  {
   "cell_type": "markdown",
   "metadata": {},
   "source": [
    "#### Test:"
   ]
  },
  {
   "cell_type": "code",
   "execution_count": 27,
   "metadata": {},
   "outputs": [
    {
     "name": "stdout",
     "output_type": "stream",
     "text": [
      "<class 'pandas.core.frame.DataFrame'>\n",
      "Int64Index: 2175 entries, 0 to 2355\n",
      "Data columns (total 14 columns):\n",
      " #   Column                      Non-Null Count  Dtype              \n",
      "---  ------                      --------------  -----              \n",
      " 0   tweet_id                    2175 non-null   int64              \n",
      " 1   in_reply_to_status_id       78 non-null     float64            \n",
      " 2   in_reply_to_user_id         78 non-null     float64            \n",
      " 3   timestamp                   2175 non-null   datetime64[ns, UTC]\n",
      " 4   source                      2175 non-null   object             \n",
      " 5   text                        2175 non-null   object             \n",
      " 6   retweeted_status_id         0 non-null      float64            \n",
      " 7   retweeted_status_user_id    0 non-null      float64            \n",
      " 8   retweeted_status_timestamp  0 non-null      object             \n",
      " 9   expanded_urls               2117 non-null   object             \n",
      " 10  rating_numerator            2175 non-null   int64              \n",
      " 11  rating_denominator          2175 non-null   int64              \n",
      " 12  name                        1440 non-null   object             \n",
      " 13  stage                       332 non-null    object             \n",
      "dtypes: datetime64[ns, UTC](1), float64(4), int64(3), object(6)\n",
      "memory usage: 254.9+ KB\n"
     ]
    }
   ],
   "source": [
    "df_eta_clean.info()"
   ]
  },
  {
   "cell_type": "markdown",
   "metadata": {},
   "source": [
    "# Quality Issue:\n",
    "Complete expanded_urls empty cells\n",
    "\n",
    "#### Define:\n",
    "Re-write the expanded_urls column"
   ]
  },
  {
   "cell_type": "markdown",
   "metadata": {},
   "source": [
    "#### Code:"
   ]
  },
  {
   "cell_type": "code",
   "execution_count": 28,
   "metadata": {},
   "outputs": [],
   "source": [
    "#rewriting \"expanded_urls\" column:\n",
    "df_eta_clean[\"expanded_urls\"] = df_eta_clean[\"tweet_id\"].astype(str).apply(lambda x: \"https://twitter.com/dog_rates/status/\"+x)"
   ]
  },
  {
   "cell_type": "markdown",
   "metadata": {},
   "source": [
    "#### Test:"
   ]
  },
  {
   "cell_type": "code",
   "execution_count": 29,
   "metadata": {},
   "outputs": [
    {
     "data": {
      "text/plain": [
       "0"
      ]
     },
     "metadata": {},
     "output_type": "display_data"
    },
    {
     "name": "stdout",
     "output_type": "stream",
     "text": [
      "<class 'pandas.core.frame.DataFrame'>\n",
      "Int64Index: 2175 entries, 0 to 2355\n",
      "Data columns (total 14 columns):\n",
      " #   Column                      Non-Null Count  Dtype              \n",
      "---  ------                      --------------  -----              \n",
      " 0   tweet_id                    2175 non-null   int64              \n",
      " 1   in_reply_to_status_id       78 non-null     float64            \n",
      " 2   in_reply_to_user_id         78 non-null     float64            \n",
      " 3   timestamp                   2175 non-null   datetime64[ns, UTC]\n",
      " 4   source                      2175 non-null   object             \n",
      " 5   text                        2175 non-null   object             \n",
      " 6   retweeted_status_id         0 non-null      float64            \n",
      " 7   retweeted_status_user_id    0 non-null      float64            \n",
      " 8   retweeted_status_timestamp  0 non-null      object             \n",
      " 9   expanded_urls               2175 non-null   object             \n",
      " 10  rating_numerator            2175 non-null   int64              \n",
      " 11  rating_denominator          2175 non-null   int64              \n",
      " 12  name                        1440 non-null   object             \n",
      " 13  stage                       332 non-null    object             \n",
      "dtypes: datetime64[ns, UTC](1), float64(4), int64(3), object(6)\n",
      "memory usage: 254.9+ KB\n"
     ]
    }
   ],
   "source": [
    "#Cheking null values:\n",
    "display(sum(df_eta_clean[\"expanded_urls\"].isnull()))\n",
    "#Checking new dataframe:\n",
    "df_eta_clean.info()"
   ]
  },
  {
   "cell_type": "markdown",
   "metadata": {},
   "source": [
    "# Quality Issue:\n",
    "Delete 1% of outliers from rating numerator \n",
    "\n",
    "#### Define:\n",
    "Sort values per rating_numerator and select the first rows that contain the outliers"
   ]
  },
  {
   "cell_type": "markdown",
   "metadata": {},
   "source": [
    "#### Code:"
   ]
  },
  {
   "cell_type": "code",
   "execution_count": 30,
   "metadata": {},
   "outputs": [],
   "source": [
    "## Deleting 1% outliers from \"rating_numerator\"\n",
    "df_eta_clean.sort_values(by=\"rating_numerator\", ascending=False).head(30)\n",
    "df_eta_clean = df_eta_clean.sort_values(by=\"rating_numerator\", ascending=False).iloc[27:,:]"
   ]
  },
  {
   "cell_type": "markdown",
   "metadata": {},
   "source": [
    "#### Test:"
   ]
  },
  {
   "cell_type": "code",
   "execution_count": 31,
   "metadata": {},
   "outputs": [
    {
     "data": {
      "text/plain": [
       "12    500\n",
       "10    442\n",
       "11    426\n",
       "13    307\n",
       "9     156\n",
       "8      98\n",
       "7      54\n",
       "14     42\n",
       "5      36\n",
       "6      32\n",
       "3      19\n",
       "4      17\n",
       "2       9\n",
       "1       8\n",
       "0       2\n",
       "Name: rating_numerator, dtype: int64"
      ]
     },
     "execution_count": 31,
     "metadata": {},
     "output_type": "execute_result"
    }
   ],
   "source": [
    "#Checking data cleaning - removing outliers\n",
    "df_eta_clean[\"rating_numerator\"].value_counts()\n",
    "#Now we have 2148 Rows"
   ]
  },
  {
   "cell_type": "code",
   "execution_count": 33,
   "metadata": {},
   "outputs": [
    {
     "name": "stdout",
     "output_type": "stream",
     "text": [
      "<class 'pandas.core.frame.DataFrame'>\n",
      "RangeIndex: 2354 entries, 0 to 2353\n",
      "Data columns (total 31 columns):\n",
      " #   Column                         Non-Null Count  Dtype              \n",
      "---  ------                         --------------  -----              \n",
      " 0   created_at                     2354 non-null   datetime64[ns, UTC]\n",
      " 1   id                             2354 non-null   int64              \n",
      " 2   id_str                         2354 non-null   int64              \n",
      " 3   full_text                      2354 non-null   object             \n",
      " 4   truncated                      2354 non-null   bool               \n",
      " 5   display_text_range             2354 non-null   object             \n",
      " 6   entities                       2354 non-null   object             \n",
      " 7   extended_entities              2073 non-null   object             \n",
      " 8   source                         2354 non-null   object             \n",
      " 9   in_reply_to_status_id          78 non-null     float64            \n",
      " 10  in_reply_to_status_id_str      78 non-null     float64            \n",
      " 11  in_reply_to_user_id            78 non-null     float64            \n",
      " 12  in_reply_to_user_id_str        78 non-null     float64            \n",
      " 13  in_reply_to_screen_name        78 non-null     object             \n",
      " 14  user                           2354 non-null   object             \n",
      " 15  geo                            0 non-null      float64            \n",
      " 16  coordinates                    0 non-null      float64            \n",
      " 17  place                          1 non-null      object             \n",
      " 18  contributors                   0 non-null      float64            \n",
      " 19  is_quote_status                2354 non-null   bool               \n",
      " 20  retweet_count                  2354 non-null   int64              \n",
      " 21  favorite_count                 2354 non-null   int64              \n",
      " 22  favorited                      2354 non-null   bool               \n",
      " 23  retweeted                      2354 non-null   bool               \n",
      " 24  possibly_sensitive             2211 non-null   float64            \n",
      " 25  possibly_sensitive_appealable  2211 non-null   float64            \n",
      " 26  lang                           2354 non-null   object             \n",
      " 27  retweeted_status               179 non-null    object             \n",
      " 28  quoted_status_id               29 non-null     float64            \n",
      " 29  quoted_status_id_str           29 non-null     float64            \n",
      " 30  quoted_status                  28 non-null     object             \n",
      "dtypes: bool(4), datetime64[ns, UTC](1), float64(11), int64(4), object(11)\n",
      "memory usage: 505.9+ KB\n"
     ]
    },
    {
     "data": {
      "text/plain": [
       "None"
      ]
     },
     "metadata": {},
     "output_type": "display_data"
    },
    {
     "data": {
      "text/html": [
       "<div>\n",
       "<style scoped>\n",
       "    .dataframe tbody tr th:only-of-type {\n",
       "        vertical-align: middle;\n",
       "    }\n",
       "\n",
       "    .dataframe tbody tr th {\n",
       "        vertical-align: top;\n",
       "    }\n",
       "\n",
       "    .dataframe thead th {\n",
       "        text-align: right;\n",
       "    }\n",
       "</style>\n",
       "<table border=\"1\" class=\"dataframe\">\n",
       "  <thead>\n",
       "    <tr style=\"text-align: right;\">\n",
       "      <th></th>\n",
       "      <th>created_at</th>\n",
       "      <th>id</th>\n",
       "      <th>id_str</th>\n",
       "      <th>full_text</th>\n",
       "      <th>truncated</th>\n",
       "      <th>display_text_range</th>\n",
       "      <th>entities</th>\n",
       "      <th>extended_entities</th>\n",
       "      <th>source</th>\n",
       "      <th>in_reply_to_status_id</th>\n",
       "      <th>in_reply_to_status_id_str</th>\n",
       "      <th>in_reply_to_user_id</th>\n",
       "      <th>in_reply_to_user_id_str</th>\n",
       "      <th>in_reply_to_screen_name</th>\n",
       "      <th>user</th>\n",
       "      <th>geo</th>\n",
       "      <th>coordinates</th>\n",
       "      <th>place</th>\n",
       "      <th>contributors</th>\n",
       "      <th>is_quote_status</th>\n",
       "      <th>retweet_count</th>\n",
       "      <th>favorite_count</th>\n",
       "      <th>favorited</th>\n",
       "      <th>retweeted</th>\n",
       "      <th>possibly_sensitive</th>\n",
       "      <th>possibly_sensitive_appealable</th>\n",
       "      <th>lang</th>\n",
       "      <th>retweeted_status</th>\n",
       "      <th>quoted_status_id</th>\n",
       "      <th>quoted_status_id_str</th>\n",
       "      <th>quoted_status</th>\n",
       "    </tr>\n",
       "  </thead>\n",
       "  <tbody>\n",
       "    <tr>\n",
       "      <th>322</th>\n",
       "      <td>2017-02-21 17:18:39+00:00</td>\n",
       "      <td>834089966724603904</td>\n",
       "      <td>834089966724603904</td>\n",
       "      <td>DOGGO ON THE LOOSE I REPEAT DOGGO ON THE LOOSE...</td>\n",
       "      <td>False</td>\n",
       "      <td>[0, 52]</td>\n",
       "      <td>{'hashtags': [], 'symbols': [], 'user_mentions...</td>\n",
       "      <td>NaN</td>\n",
       "      <td>&lt;a href=\"http://twitter.com/download/iphone\" r...</td>\n",
       "      <td>NaN</td>\n",
       "      <td>NaN</td>\n",
       "      <td>NaN</td>\n",
       "      <td>NaN</td>\n",
       "      <td>None</td>\n",
       "      <td>{'id': 4196983835, 'id_str': '4196983835', 'na...</td>\n",
       "      <td>NaN</td>\n",
       "      <td>NaN</td>\n",
       "      <td>None</td>\n",
       "      <td>NaN</td>\n",
       "      <td>True</td>\n",
       "      <td>2427</td>\n",
       "      <td>10971</td>\n",
       "      <td>False</td>\n",
       "      <td>False</td>\n",
       "      <td>0.0</td>\n",
       "      <td>0.0</td>\n",
       "      <td>en</td>\n",
       "      <td>NaN</td>\n",
       "      <td>8.340867e+17</td>\n",
       "      <td>8.340867e+17</td>\n",
       "      <td>{'created_at': 'Tue Feb 21 17:05:35 +0000 2017...</td>\n",
       "    </tr>\n",
       "  </tbody>\n",
       "</table>\n",
       "</div>"
      ],
      "text/plain": [
       "                   created_at                  id              id_str  \\\n",
       "322 2017-02-21 17:18:39+00:00  834089966724603904  834089966724603904   \n",
       "\n",
       "                                             full_text  truncated  \\\n",
       "322  DOGGO ON THE LOOSE I REPEAT DOGGO ON THE LOOSE...      False   \n",
       "\n",
       "    display_text_range                                           entities  \\\n",
       "322            [0, 52]  {'hashtags': [], 'symbols': [], 'user_mentions...   \n",
       "\n",
       "    extended_entities                                             source  \\\n",
       "322               NaN  <a href=\"http://twitter.com/download/iphone\" r...   \n",
       "\n",
       "     in_reply_to_status_id  in_reply_to_status_id_str  in_reply_to_user_id  \\\n",
       "322                    NaN                        NaN                  NaN   \n",
       "\n",
       "     in_reply_to_user_id_str in_reply_to_screen_name  \\\n",
       "322                      NaN                    None   \n",
       "\n",
       "                                                  user  geo  coordinates  \\\n",
       "322  {'id': 4196983835, 'id_str': '4196983835', 'na...  NaN          NaN   \n",
       "\n",
       "    place  contributors  is_quote_status  retweet_count  favorite_count  \\\n",
       "322  None           NaN             True           2427           10971   \n",
       "\n",
       "     favorited  retweeted  possibly_sensitive  possibly_sensitive_appealable  \\\n",
       "322      False      False                 0.0                            0.0   \n",
       "\n",
       "    lang retweeted_status  quoted_status_id  quoted_status_id_str  \\\n",
       "322   en              NaN      8.340867e+17          8.340867e+17   \n",
       "\n",
       "                                         quoted_status  \n",
       "322  {'created_at': 'Tue Feb 21 17:05:35 +0000 2017...  "
      ]
     },
     "metadata": {},
     "output_type": "display_data"
    }
   ],
   "source": [
    "#Checking second dataframe:\n",
    "display(df_tw.info())\n",
    "display(df_tw.sample())"
   ]
  },
  {
   "cell_type": "code",
   "execution_count": 34,
   "metadata": {},
   "outputs": [],
   "source": [
    "#Making a copy:\n",
    "df_tw_clean = df_tw.copy()"
   ]
  },
  {
   "cell_type": "markdown",
   "metadata": {},
   "source": [
    "# Quality Issue:\n",
    "Tweet_id doesn't have the same name\n",
    "\n",
    "#### Define:\n",
    "Rename the column \"id\""
   ]
  },
  {
   "cell_type": "markdown",
   "metadata": {},
   "source": [
    "#### Code:"
   ]
  },
  {
   "cell_type": "code",
   "execution_count": 35,
   "metadata": {},
   "outputs": [
    {
     "data": {
      "text/html": [
       "<div>\n",
       "<style scoped>\n",
       "    .dataframe tbody tr th:only-of-type {\n",
       "        vertical-align: middle;\n",
       "    }\n",
       "\n",
       "    .dataframe tbody tr th {\n",
       "        vertical-align: top;\n",
       "    }\n",
       "\n",
       "    .dataframe thead th {\n",
       "        text-align: right;\n",
       "    }\n",
       "</style>\n",
       "<table border=\"1\" class=\"dataframe\">\n",
       "  <thead>\n",
       "    <tr style=\"text-align: right;\">\n",
       "      <th></th>\n",
       "      <th>created_at</th>\n",
       "      <th>id</th>\n",
       "      <th>id_str</th>\n",
       "      <th>full_text</th>\n",
       "      <th>truncated</th>\n",
       "      <th>display_text_range</th>\n",
       "      <th>entities</th>\n",
       "      <th>extended_entities</th>\n",
       "      <th>source</th>\n",
       "      <th>in_reply_to_status_id</th>\n",
       "      <th>in_reply_to_status_id_str</th>\n",
       "      <th>in_reply_to_user_id</th>\n",
       "      <th>in_reply_to_user_id_str</th>\n",
       "      <th>in_reply_to_screen_name</th>\n",
       "      <th>user</th>\n",
       "      <th>geo</th>\n",
       "      <th>coordinates</th>\n",
       "      <th>place</th>\n",
       "      <th>contributors</th>\n",
       "      <th>is_quote_status</th>\n",
       "      <th>retweet_count</th>\n",
       "      <th>favorite_count</th>\n",
       "      <th>favorited</th>\n",
       "      <th>retweeted</th>\n",
       "      <th>possibly_sensitive</th>\n",
       "      <th>possibly_sensitive_appealable</th>\n",
       "      <th>lang</th>\n",
       "      <th>retweeted_status</th>\n",
       "      <th>quoted_status_id</th>\n",
       "      <th>quoted_status_id_str</th>\n",
       "      <th>quoted_status</th>\n",
       "    </tr>\n",
       "  </thead>\n",
       "  <tbody>\n",
       "    <tr>\n",
       "      <th>628</th>\n",
       "      <td>2016-11-04 01:48:22+00:00</td>\n",
       "      <td>794355576146903043</td>\n",
       "      <td>794355576146903040</td>\n",
       "      <td>RT @dog_rates: This is Butter. She can have wh...</td>\n",
       "      <td>False</td>\n",
       "      <td>[0, 118]</td>\n",
       "      <td>{'hashtags': [], 'symbols': [], 'user_mentions...</td>\n",
       "      <td>{'media': [{'id': 788765906553962498, 'id_str'...</td>\n",
       "      <td>&lt;a href=\"http://twitter.com/download/iphone\" r...</td>\n",
       "      <td>NaN</td>\n",
       "      <td>NaN</td>\n",
       "      <td>NaN</td>\n",
       "      <td>NaN</td>\n",
       "      <td>None</td>\n",
       "      <td>{'id': 4196983835, 'id_str': '4196983835', 'na...</td>\n",
       "      <td>NaN</td>\n",
       "      <td>NaN</td>\n",
       "      <td>None</td>\n",
       "      <td>NaN</td>\n",
       "      <td>False</td>\n",
       "      <td>12014</td>\n",
       "      <td>0</td>\n",
       "      <td>False</td>\n",
       "      <td>False</td>\n",
       "      <td>0.0</td>\n",
       "      <td>0.0</td>\n",
       "      <td>en</td>\n",
       "      <td>{'created_at': 'Wed Oct 19 15:37:03 +0000 2016...</td>\n",
       "      <td>NaN</td>\n",
       "      <td>NaN</td>\n",
       "      <td>NaN</td>\n",
       "    </tr>\n",
       "  </tbody>\n",
       "</table>\n",
       "</div>"
      ],
      "text/plain": [
       "                   created_at                  id              id_str  \\\n",
       "628 2016-11-04 01:48:22+00:00  794355576146903043  794355576146903040   \n",
       "\n",
       "                                             full_text  truncated  \\\n",
       "628  RT @dog_rates: This is Butter. She can have wh...      False   \n",
       "\n",
       "    display_text_range                                           entities  \\\n",
       "628           [0, 118]  {'hashtags': [], 'symbols': [], 'user_mentions...   \n",
       "\n",
       "                                     extended_entities  \\\n",
       "628  {'media': [{'id': 788765906553962498, 'id_str'...   \n",
       "\n",
       "                                                source  in_reply_to_status_id  \\\n",
       "628  <a href=\"http://twitter.com/download/iphone\" r...                    NaN   \n",
       "\n",
       "     in_reply_to_status_id_str  in_reply_to_user_id  in_reply_to_user_id_str  \\\n",
       "628                        NaN                  NaN                      NaN   \n",
       "\n",
       "    in_reply_to_screen_name  \\\n",
       "628                    None   \n",
       "\n",
       "                                                  user  geo  coordinates  \\\n",
       "628  {'id': 4196983835, 'id_str': '4196983835', 'na...  NaN          NaN   \n",
       "\n",
       "    place  contributors  is_quote_status  retweet_count  favorite_count  \\\n",
       "628  None           NaN            False          12014               0   \n",
       "\n",
       "     favorited  retweeted  possibly_sensitive  possibly_sensitive_appealable  \\\n",
       "628      False      False                 0.0                            0.0   \n",
       "\n",
       "    lang                                   retweeted_status  quoted_status_id  \\\n",
       "628   en  {'created_at': 'Wed Oct 19 15:37:03 +0000 2016...               NaN   \n",
       "\n",
       "     quoted_status_id_str quoted_status  \n",
       "628                   NaN           NaN  "
      ]
     },
     "metadata": {},
     "output_type": "display_data"
    },
    {
     "data": {
      "text/html": [
       "<div>\n",
       "<style scoped>\n",
       "    .dataframe tbody tr th:only-of-type {\n",
       "        vertical-align: middle;\n",
       "    }\n",
       "\n",
       "    .dataframe tbody tr th {\n",
       "        vertical-align: top;\n",
       "    }\n",
       "\n",
       "    .dataframe thead th {\n",
       "        text-align: right;\n",
       "    }\n",
       "</style>\n",
       "<table border=\"1\" class=\"dataframe\">\n",
       "  <thead>\n",
       "    <tr style=\"text-align: right;\">\n",
       "      <th></th>\n",
       "      <th>tweet_id</th>\n",
       "      <th>in_reply_to_status_id</th>\n",
       "      <th>in_reply_to_user_id</th>\n",
       "      <th>timestamp</th>\n",
       "      <th>source</th>\n",
       "      <th>text</th>\n",
       "      <th>retweeted_status_id</th>\n",
       "      <th>retweeted_status_user_id</th>\n",
       "      <th>retweeted_status_timestamp</th>\n",
       "      <th>expanded_urls</th>\n",
       "      <th>rating_numerator</th>\n",
       "      <th>rating_denominator</th>\n",
       "      <th>name</th>\n",
       "      <th>doggo</th>\n",
       "      <th>floofer</th>\n",
       "      <th>pupper</th>\n",
       "      <th>puppo</th>\n",
       "    </tr>\n",
       "  </thead>\n",
       "  <tbody>\n",
       "    <tr>\n",
       "      <th>629</th>\n",
       "      <td>794355576146903043</td>\n",
       "      <td>NaN</td>\n",
       "      <td>NaN</td>\n",
       "      <td>2016-11-04 01:48:22 +0000</td>\n",
       "      <td>&lt;a href=\"http://twitter.com/download/iphone\" r...</td>\n",
       "      <td>RT @dog_rates: This is Butter. She can have wh...</td>\n",
       "      <td>7.887659e+17</td>\n",
       "      <td>4.196984e+09</td>\n",
       "      <td>2016-10-19 15:37:03 +0000</td>\n",
       "      <td>https://twitter.com/dog_rates/status/788765914...</td>\n",
       "      <td>12</td>\n",
       "      <td>10</td>\n",
       "      <td>Butter</td>\n",
       "      <td>None</td>\n",
       "      <td>None</td>\n",
       "      <td>None</td>\n",
       "      <td>None</td>\n",
       "    </tr>\n",
       "  </tbody>\n",
       "</table>\n",
       "</div>"
      ],
      "text/plain": [
       "               tweet_id  in_reply_to_status_id  in_reply_to_user_id  \\\n",
       "629  794355576146903043                    NaN                  NaN   \n",
       "\n",
       "                     timestamp  \\\n",
       "629  2016-11-04 01:48:22 +0000   \n",
       "\n",
       "                                                source  \\\n",
       "629  <a href=\"http://twitter.com/download/iphone\" r...   \n",
       "\n",
       "                                                  text  retweeted_status_id  \\\n",
       "629  RT @dog_rates: This is Butter. She can have wh...         7.887659e+17   \n",
       "\n",
       "     retweeted_status_user_id retweeted_status_timestamp  \\\n",
       "629              4.196984e+09  2016-10-19 15:37:03 +0000   \n",
       "\n",
       "                                         expanded_urls  rating_numerator  \\\n",
       "629  https://twitter.com/dog_rates/status/788765914...                12   \n",
       "\n",
       "     rating_denominator    name doggo floofer pupper puppo  \n",
       "629                  10  Butter  None    None   None  None  "
      ]
     },
     "metadata": {},
     "output_type": "display_data"
    }
   ],
   "source": [
    "#After to realize that\"id\" and \"id_str\" have sometimes different values, I check with one specific id::\n",
    "display(df_tw[df_tw.index==628])\n",
    "display(df_eta[df_eta.tweet_id == 794355576146903043])\n",
    "#\"id\" is the column that we can rename \"tweet_id\"\n",
    "\n",
    "df_tw_clean = df_tw.rename(columns={\"id\":\"tweet_id\"})"
   ]
  },
  {
   "cell_type": "markdown",
   "metadata": {},
   "source": [
    "#### Test:\n"
   ]
  },
  {
   "cell_type": "code",
   "execution_count": 36,
   "metadata": {},
   "outputs": [
    {
     "data": {
      "text/html": [
       "<div>\n",
       "<style scoped>\n",
       "    .dataframe tbody tr th:only-of-type {\n",
       "        vertical-align: middle;\n",
       "    }\n",
       "\n",
       "    .dataframe tbody tr th {\n",
       "        vertical-align: top;\n",
       "    }\n",
       "\n",
       "    .dataframe thead th {\n",
       "        text-align: right;\n",
       "    }\n",
       "</style>\n",
       "<table border=\"1\" class=\"dataframe\">\n",
       "  <thead>\n",
       "    <tr style=\"text-align: right;\">\n",
       "      <th></th>\n",
       "      <th>created_at</th>\n",
       "      <th>tweet_id</th>\n",
       "      <th>id_str</th>\n",
       "      <th>full_text</th>\n",
       "      <th>truncated</th>\n",
       "      <th>display_text_range</th>\n",
       "      <th>entities</th>\n",
       "      <th>extended_entities</th>\n",
       "      <th>source</th>\n",
       "      <th>in_reply_to_status_id</th>\n",
       "      <th>in_reply_to_status_id_str</th>\n",
       "      <th>in_reply_to_user_id</th>\n",
       "      <th>in_reply_to_user_id_str</th>\n",
       "      <th>in_reply_to_screen_name</th>\n",
       "      <th>user</th>\n",
       "      <th>geo</th>\n",
       "      <th>coordinates</th>\n",
       "      <th>place</th>\n",
       "      <th>contributors</th>\n",
       "      <th>is_quote_status</th>\n",
       "      <th>retweet_count</th>\n",
       "      <th>favorite_count</th>\n",
       "      <th>favorited</th>\n",
       "      <th>retweeted</th>\n",
       "      <th>possibly_sensitive</th>\n",
       "      <th>possibly_sensitive_appealable</th>\n",
       "      <th>lang</th>\n",
       "      <th>retweeted_status</th>\n",
       "      <th>quoted_status_id</th>\n",
       "      <th>quoted_status_id_str</th>\n",
       "      <th>quoted_status</th>\n",
       "    </tr>\n",
       "  </thead>\n",
       "  <tbody>\n",
       "    <tr>\n",
       "      <th>677</th>\n",
       "      <td>2016-10-21 00:53:56+00:00</td>\n",
       "      <td>789268448748703744</td>\n",
       "      <td>789268448748703744</td>\n",
       "      <td>This is Stella. She's happier than I will ever...</td>\n",
       "      <td>False</td>\n",
       "      <td>[0, 79]</td>\n",
       "      <td>{'hashtags': [], 'symbols': [], 'user_mentions...</td>\n",
       "      <td>{'media': [{'id': 789268438468423680, 'id_str'...</td>\n",
       "      <td>&lt;a href=\"http://twitter.com/download/iphone\" r...</td>\n",
       "      <td>NaN</td>\n",
       "      <td>NaN</td>\n",
       "      <td>NaN</td>\n",
       "      <td>NaN</td>\n",
       "      <td>None</td>\n",
       "      <td>{'id': 4196983835, 'id_str': '4196983835', 'na...</td>\n",
       "      <td>NaN</td>\n",
       "      <td>NaN</td>\n",
       "      <td>None</td>\n",
       "      <td>NaN</td>\n",
       "      <td>False</td>\n",
       "      <td>3014</td>\n",
       "      <td>10196</td>\n",
       "      <td>False</td>\n",
       "      <td>False</td>\n",
       "      <td>0.0</td>\n",
       "      <td>0.0</td>\n",
       "      <td>en</td>\n",
       "      <td>NaN</td>\n",
       "      <td>NaN</td>\n",
       "      <td>NaN</td>\n",
       "      <td>NaN</td>\n",
       "    </tr>\n",
       "  </tbody>\n",
       "</table>\n",
       "</div>"
      ],
      "text/plain": [
       "                   created_at            tweet_id              id_str  \\\n",
       "677 2016-10-21 00:53:56+00:00  789268448748703744  789268448748703744   \n",
       "\n",
       "                                             full_text  truncated  \\\n",
       "677  This is Stella. She's happier than I will ever...      False   \n",
       "\n",
       "    display_text_range                                           entities  \\\n",
       "677            [0, 79]  {'hashtags': [], 'symbols': [], 'user_mentions...   \n",
       "\n",
       "                                     extended_entities  \\\n",
       "677  {'media': [{'id': 789268438468423680, 'id_str'...   \n",
       "\n",
       "                                                source  in_reply_to_status_id  \\\n",
       "677  <a href=\"http://twitter.com/download/iphone\" r...                    NaN   \n",
       "\n",
       "     in_reply_to_status_id_str  in_reply_to_user_id  in_reply_to_user_id_str  \\\n",
       "677                        NaN                  NaN                      NaN   \n",
       "\n",
       "    in_reply_to_screen_name  \\\n",
       "677                    None   \n",
       "\n",
       "                                                  user  geo  coordinates  \\\n",
       "677  {'id': 4196983835, 'id_str': '4196983835', 'na...  NaN          NaN   \n",
       "\n",
       "    place  contributors  is_quote_status  retweet_count  favorite_count  \\\n",
       "677  None           NaN            False           3014           10196   \n",
       "\n",
       "     favorited  retweeted  possibly_sensitive  possibly_sensitive_appealable  \\\n",
       "677      False      False                 0.0                            0.0   \n",
       "\n",
       "    lang retweeted_status  quoted_status_id  quoted_status_id_str  \\\n",
       "677   en              NaN               NaN                   NaN   \n",
       "\n",
       "    quoted_status  \n",
       "677           NaN  "
      ]
     },
     "execution_count": 36,
     "metadata": {},
     "output_type": "execute_result"
    }
   ],
   "source": [
    "df_tw_clean.sample()"
   ]
  },
  {
   "cell_type": "code",
   "execution_count": 37,
   "metadata": {},
   "outputs": [
    {
     "data": {
      "text/html": [
       "<div>\n",
       "<style scoped>\n",
       "    .dataframe tbody tr th:only-of-type {\n",
       "        vertical-align: middle;\n",
       "    }\n",
       "\n",
       "    .dataframe tbody tr th {\n",
       "        vertical-align: top;\n",
       "    }\n",
       "\n",
       "    .dataframe thead th {\n",
       "        text-align: right;\n",
       "    }\n",
       "</style>\n",
       "<table border=\"1\" class=\"dataframe\">\n",
       "  <thead>\n",
       "    <tr style=\"text-align: right;\">\n",
       "      <th></th>\n",
       "      <th>tweet_id</th>\n",
       "      <th>retweet_count</th>\n",
       "      <th>favorite_count</th>\n",
       "    </tr>\n",
       "  </thead>\n",
       "  <tbody>\n",
       "    <tr>\n",
       "      <th>0</th>\n",
       "      <td>892420643555336193</td>\n",
       "      <td>8853</td>\n",
       "      <td>39467</td>\n",
       "    </tr>\n",
       "    <tr>\n",
       "      <th>1</th>\n",
       "      <td>892177421306343426</td>\n",
       "      <td>6514</td>\n",
       "      <td>33819</td>\n",
       "    </tr>\n",
       "    <tr>\n",
       "      <th>2</th>\n",
       "      <td>891815181378084864</td>\n",
       "      <td>4328</td>\n",
       "      <td>25461</td>\n",
       "    </tr>\n",
       "    <tr>\n",
       "      <th>3</th>\n",
       "      <td>891689557279858688</td>\n",
       "      <td>8964</td>\n",
       "      <td>42908</td>\n",
       "    </tr>\n",
       "    <tr>\n",
       "      <th>4</th>\n",
       "      <td>891327558926688256</td>\n",
       "      <td>9774</td>\n",
       "      <td>41048</td>\n",
       "    </tr>\n",
       "  </tbody>\n",
       "</table>\n",
       "</div>"
      ],
      "text/plain": [
       "             tweet_id  retweet_count  favorite_count\n",
       "0  892420643555336193           8853           39467\n",
       "1  892177421306343426           6514           33819\n",
       "2  891815181378084864           4328           25461\n",
       "3  891689557279858688           8964           42908\n",
       "4  891327558926688256           9774           41048"
      ]
     },
     "execution_count": 37,
     "metadata": {},
     "output_type": "execute_result"
    }
   ],
   "source": [
    "#Creating a short dataframe with usefull data for analysis:\n",
    "df_tw_clean = df_tw_clean[[\"tweet_id\",\"retweet_count\",\"favorite_count\"]]\n",
    "df_tw_clean.head()"
   ]
  },
  {
   "cell_type": "code",
   "execution_count": 38,
   "metadata": {
    "scrolled": true
   },
   "outputs": [
    {
     "name": "stdout",
     "output_type": "stream",
     "text": [
      "<class 'pandas.core.frame.DataFrame'>\n",
      "RangeIndex: 2075 entries, 0 to 2074\n",
      "Data columns (total 12 columns):\n",
      " #   Column    Non-Null Count  Dtype  \n",
      "---  ------    --------------  -----  \n",
      " 0   tweet_id  2075 non-null   int64  \n",
      " 1   jpg_url   2075 non-null   object \n",
      " 2   img_num   2075 non-null   int64  \n",
      " 3   p1        2075 non-null   object \n",
      " 4   p1_conf   2075 non-null   float64\n",
      " 5   p1_dog    2075 non-null   bool   \n",
      " 6   p2        2075 non-null   object \n",
      " 7   p2_conf   2075 non-null   float64\n",
      " 8   p2_dog    2075 non-null   bool   \n",
      " 9   p3        2075 non-null   object \n",
      " 10  p3_conf   2075 non-null   float64\n",
      " 11  p3_dog    2075 non-null   bool   \n",
      "dtypes: bool(3), float64(3), int64(2), object(4)\n",
      "memory usage: 152.1+ KB\n"
     ]
    },
    {
     "data": {
      "text/plain": [
       "None"
      ]
     },
     "metadata": {},
     "output_type": "display_data"
    },
    {
     "data": {
      "text/html": [
       "<div>\n",
       "<style scoped>\n",
       "    .dataframe tbody tr th:only-of-type {\n",
       "        vertical-align: middle;\n",
       "    }\n",
       "\n",
       "    .dataframe tbody tr th {\n",
       "        vertical-align: top;\n",
       "    }\n",
       "\n",
       "    .dataframe thead th {\n",
       "        text-align: right;\n",
       "    }\n",
       "</style>\n",
       "<table border=\"1\" class=\"dataframe\">\n",
       "  <thead>\n",
       "    <tr style=\"text-align: right;\">\n",
       "      <th></th>\n",
       "      <th>tweet_id</th>\n",
       "      <th>jpg_url</th>\n",
       "      <th>img_num</th>\n",
       "      <th>p1</th>\n",
       "      <th>p1_conf</th>\n",
       "      <th>p1_dog</th>\n",
       "      <th>p2</th>\n",
       "      <th>p2_conf</th>\n",
       "      <th>p2_dog</th>\n",
       "      <th>p3</th>\n",
       "      <th>p3_conf</th>\n",
       "      <th>p3_dog</th>\n",
       "    </tr>\n",
       "  </thead>\n",
       "  <tbody>\n",
       "    <tr>\n",
       "      <th>1977</th>\n",
       "      <td>870374049280663552</td>\n",
       "      <td>https://pbs.twimg.com/media/DBQwlFCXkAACSkI.jpg</td>\n",
       "      <td>1</td>\n",
       "      <td>golden_retriever</td>\n",
       "      <td>0.841001</td>\n",
       "      <td>True</td>\n",
       "      <td>Great_Pyrenees</td>\n",
       "      <td>0.099278</td>\n",
       "      <td>True</td>\n",
       "      <td>Labrador_retriever</td>\n",
       "      <td>0.032621</td>\n",
       "      <td>True</td>\n",
       "    </tr>\n",
       "  </tbody>\n",
       "</table>\n",
       "</div>"
      ],
      "text/plain": [
       "                tweet_id                                          jpg_url  \\\n",
       "1977  870374049280663552  https://pbs.twimg.com/media/DBQwlFCXkAACSkI.jpg   \n",
       "\n",
       "      img_num                p1   p1_conf  p1_dog              p2   p2_conf  \\\n",
       "1977        1  golden_retriever  0.841001    True  Great_Pyrenees  0.099278   \n",
       "\n",
       "      p2_dog                  p3   p3_conf  p3_dog  \n",
       "1977    True  Labrador_retriever  0.032621    True  "
      ]
     },
     "execution_count": 38,
     "metadata": {},
     "output_type": "execute_result"
    }
   ],
   "source": [
    "#Checking dataframe N° 3\n",
    "display(df_ip.info())\n",
    "df_ip.sample()"
   ]
  },
  {
   "cell_type": "code",
   "execution_count": 39,
   "metadata": {},
   "outputs": [],
   "source": [
    "#Making a copy to clean:\n",
    "df_ip_clean = df_ip.copy()"
   ]
  },
  {
   "cell_type": "markdown",
   "metadata": {},
   "source": [
    "# Quality Issue:\n",
    "Breed prediction, confidence level and boolean if it's a dog columns (9) are 3 variables\n",
    "\n",
    "#### Define:\n",
    "Melt dataframe and get one columns per each variable"
   ]
  },
  {
   "cell_type": "markdown",
   "metadata": {},
   "source": [
    "#### Code:"
   ]
  },
  {
   "cell_type": "code",
   "execution_count": 40,
   "metadata": {},
   "outputs": [],
   "source": [
    "#Melting given dataframe in 3 new dataframes for each number of prediction:\n",
    "df1 = df_ip_clean.drop(columns=[\"p2\",\"p2_conf\",\"p2_dog\",\"p3\", \"p3_conf\", \"p3_dog\"])\n",
    "df1 = pd.melt(df1, id_vars=[\"tweet_id\",\"jpg_url\",\"img_num\"], value_vars=[\"p1\"], var_name=\"n_pred\", value_name=\"breed_pred\")\n",
    "df1[[\"confidence\",\"is_dog\"]] = df_ip_clean[[\"p1_conf\",\"p1_dog\"]]\n",
    "\n",
    "df2 = df_ip_clean.drop(columns=[\"p1\",\"p1_conf\",\"p1_dog\",\"p3\", \"p3_conf\", \"p3_dog\"])\n",
    "df2 = pd.melt(df2, id_vars=[\"tweet_id\",\"jpg_url\",\"img_num\"], value_vars=[\"p2\"], var_name=\"n_pred\", value_name=\"breed_pred\")\n",
    "df2[[\"confidence\",\"is_dog\"]] = df_ip_clean[[\"p2_conf\",\"p2_dog\"]]\n",
    "\n",
    "df3 = df_ip_clean.drop(columns=[\"p2\",\"p2_conf\",\"p2_dog\",\"p1\", \"p1_conf\", \"p1_dog\"])\n",
    "df3 = pd.melt(df3, id_vars=[\"tweet_id\",\"jpg_url\",\"img_num\"], value_vars=[\"p3\"], var_name=\"n_pred\", value_name=\"breed_pred\")\n",
    "df3[[\"confidence\",\"is_dog\"]] = df_ip_clean[[\"p3_conf\",\"p3_dog\"]]"
   ]
  },
  {
   "cell_type": "markdown",
   "metadata": {},
   "source": [
    "#### Test:"
   ]
  },
  {
   "cell_type": "code",
   "execution_count": 41,
   "metadata": {},
   "outputs": [
    {
     "data": {
      "text/html": [
       "<div>\n",
       "<style scoped>\n",
       "    .dataframe tbody tr th:only-of-type {\n",
       "        vertical-align: middle;\n",
       "    }\n",
       "\n",
       "    .dataframe tbody tr th {\n",
       "        vertical-align: top;\n",
       "    }\n",
       "\n",
       "    .dataframe thead th {\n",
       "        text-align: right;\n",
       "    }\n",
       "</style>\n",
       "<table border=\"1\" class=\"dataframe\">\n",
       "  <thead>\n",
       "    <tr style=\"text-align: right;\">\n",
       "      <th></th>\n",
       "      <th>tweet_id</th>\n",
       "      <th>jpg_url</th>\n",
       "      <th>img_num</th>\n",
       "      <th>n_pred</th>\n",
       "      <th>breed_pred</th>\n",
       "      <th>confidence</th>\n",
       "      <th>is_dog</th>\n",
       "    </tr>\n",
       "  </thead>\n",
       "  <tbody>\n",
       "    <tr>\n",
       "      <th>1287</th>\n",
       "      <td>751132876104687617</td>\n",
       "      <td>https://pbs.twimg.com/media/CmyPXNOW8AEtaJ-.jpg</td>\n",
       "      <td>1</td>\n",
       "      <td>p1</td>\n",
       "      <td>Labrador_retriever</td>\n",
       "      <td>0.92939</td>\n",
       "      <td>True</td>\n",
       "    </tr>\n",
       "  </tbody>\n",
       "</table>\n",
       "</div>"
      ],
      "text/plain": [
       "                tweet_id                                          jpg_url  \\\n",
       "1287  751132876104687617  https://pbs.twimg.com/media/CmyPXNOW8AEtaJ-.jpg   \n",
       "\n",
       "      img_num n_pred          breed_pred  confidence  is_dog  \n",
       "1287        1     p1  Labrador_retriever     0.92939    True  "
      ]
     },
     "metadata": {},
     "output_type": "display_data"
    },
    {
     "data": {
      "text/html": [
       "<div>\n",
       "<style scoped>\n",
       "    .dataframe tbody tr th:only-of-type {\n",
       "        vertical-align: middle;\n",
       "    }\n",
       "\n",
       "    .dataframe tbody tr th {\n",
       "        vertical-align: top;\n",
       "    }\n",
       "\n",
       "    .dataframe thead th {\n",
       "        text-align: right;\n",
       "    }\n",
       "</style>\n",
       "<table border=\"1\" class=\"dataframe\">\n",
       "  <thead>\n",
       "    <tr style=\"text-align: right;\">\n",
       "      <th></th>\n",
       "      <th>tweet_id</th>\n",
       "      <th>jpg_url</th>\n",
       "      <th>img_num</th>\n",
       "      <th>n_pred</th>\n",
       "      <th>breed_pred</th>\n",
       "      <th>confidence</th>\n",
       "      <th>is_dog</th>\n",
       "    </tr>\n",
       "  </thead>\n",
       "  <tbody>\n",
       "    <tr>\n",
       "      <th>1307</th>\n",
       "      <td>753420520834629632</td>\n",
       "      <td>https://pbs.twimg.com/ext_tw_video_thumb/75342...</td>\n",
       "      <td>1</td>\n",
       "      <td>p2</td>\n",
       "      <td>lakeside</td>\n",
       "      <td>0.085764</td>\n",
       "      <td>False</td>\n",
       "    </tr>\n",
       "  </tbody>\n",
       "</table>\n",
       "</div>"
      ],
      "text/plain": [
       "                tweet_id                                            jpg_url  \\\n",
       "1307  753420520834629632  https://pbs.twimg.com/ext_tw_video_thumb/75342...   \n",
       "\n",
       "      img_num n_pred breed_pred  confidence  is_dog  \n",
       "1307        1     p2   lakeside    0.085764   False  "
      ]
     },
     "metadata": {},
     "output_type": "display_data"
    },
    {
     "data": {
      "text/html": [
       "<div>\n",
       "<style scoped>\n",
       "    .dataframe tbody tr th:only-of-type {\n",
       "        vertical-align: middle;\n",
       "    }\n",
       "\n",
       "    .dataframe tbody tr th {\n",
       "        vertical-align: top;\n",
       "    }\n",
       "\n",
       "    .dataframe thead th {\n",
       "        text-align: right;\n",
       "    }\n",
       "</style>\n",
       "<table border=\"1\" class=\"dataframe\">\n",
       "  <thead>\n",
       "    <tr style=\"text-align: right;\">\n",
       "      <th></th>\n",
       "      <th>tweet_id</th>\n",
       "      <th>jpg_url</th>\n",
       "      <th>img_num</th>\n",
       "      <th>n_pred</th>\n",
       "      <th>breed_pred</th>\n",
       "      <th>confidence</th>\n",
       "      <th>is_dog</th>\n",
       "    </tr>\n",
       "  </thead>\n",
       "  <tbody>\n",
       "    <tr>\n",
       "      <th>1147</th>\n",
       "      <td>730924654643314689</td>\n",
       "      <td>https://pbs.twimg.com/media/CiTEFjDXAAAqU6I.jpg</td>\n",
       "      <td>1</td>\n",
       "      <td>p3</td>\n",
       "      <td>Newfoundland</td>\n",
       "      <td>0.086241</td>\n",
       "      <td>True</td>\n",
       "    </tr>\n",
       "  </tbody>\n",
       "</table>\n",
       "</div>"
      ],
      "text/plain": [
       "                tweet_id                                          jpg_url  \\\n",
       "1147  730924654643314689  https://pbs.twimg.com/media/CiTEFjDXAAAqU6I.jpg   \n",
       "\n",
       "      img_num n_pred    breed_pred  confidence  is_dog  \n",
       "1147        1     p3  Newfoundland    0.086241    True  "
      ]
     },
     "metadata": {},
     "output_type": "display_data"
    }
   ],
   "source": [
    "display(df1.sample(), df2.sample(), df3.sample())"
   ]
  },
  {
   "cell_type": "code",
   "execution_count": 42,
   "metadata": {},
   "outputs": [
    {
     "data": {
      "text/plain": [
       "(6225, 7)"
      ]
     },
     "execution_count": 42,
     "metadata": {},
     "output_type": "execute_result"
    }
   ],
   "source": [
    "#Merge 3 dataframes from predictions in a final one.\n",
    "df_ip_clean = pd.concat([df1,df2,df3], ignore_index=True)\n",
    "df_ip_clean.shape"
   ]
  },
  {
   "cell_type": "markdown",
   "metadata": {},
   "source": [
    "# Tidiness Issue:\n",
    "We have the same identifier for 3 dataframe, so we can merge in just one\n",
    "\n",
    "#### Define:\n",
    "Merge 3 dataframes in just 1\n",
    "\n"
   ]
  },
  {
   "cell_type": "code",
   "execution_count": 43,
   "metadata": {},
   "outputs": [],
   "source": [
    "#Combining df_eta_clean with df_tw_clean:\n",
    "comb1_df = df_eta_clean.merge(df_tw_clean, how=\"left\", on=\"tweet_id\")\n",
    "#combining the last dataframe with df1 (the dataframe with best image confidence predictions for analysis)\n",
    "comb2_df = comb1_df.merge(df1, how=\"left\", on=\"tweet_id\")"
   ]
  },
  {
   "cell_type": "markdown",
   "metadata": {},
   "source": [
    "#### Test:"
   ]
  },
  {
   "cell_type": "code",
   "execution_count": 44,
   "metadata": {},
   "outputs": [
    {
     "data": {
      "text/html": [
       "<div>\n",
       "<style scoped>\n",
       "    .dataframe tbody tr th:only-of-type {\n",
       "        vertical-align: middle;\n",
       "    }\n",
       "\n",
       "    .dataframe tbody tr th {\n",
       "        vertical-align: top;\n",
       "    }\n",
       "\n",
       "    .dataframe thead th {\n",
       "        text-align: right;\n",
       "    }\n",
       "</style>\n",
       "<table border=\"1\" class=\"dataframe\">\n",
       "  <thead>\n",
       "    <tr style=\"text-align: right;\">\n",
       "      <th></th>\n",
       "      <th>tweet_id</th>\n",
       "      <th>in_reply_to_status_id</th>\n",
       "      <th>in_reply_to_user_id</th>\n",
       "      <th>timestamp</th>\n",
       "      <th>source</th>\n",
       "      <th>text</th>\n",
       "      <th>retweeted_status_id</th>\n",
       "      <th>retweeted_status_user_id</th>\n",
       "      <th>retweeted_status_timestamp</th>\n",
       "      <th>expanded_urls</th>\n",
       "      <th>rating_numerator</th>\n",
       "      <th>rating_denominator</th>\n",
       "      <th>name</th>\n",
       "      <th>stage</th>\n",
       "      <th>retweet_count</th>\n",
       "      <th>favorite_count</th>\n",
       "      <th>jpg_url</th>\n",
       "      <th>img_num</th>\n",
       "      <th>n_pred</th>\n",
       "      <th>breed_pred</th>\n",
       "      <th>confidence</th>\n",
       "      <th>is_dog</th>\n",
       "    </tr>\n",
       "  </thead>\n",
       "  <tbody>\n",
       "    <tr>\n",
       "      <th>813</th>\n",
       "      <td>833124694597443584</td>\n",
       "      <td>NaN</td>\n",
       "      <td>NaN</td>\n",
       "      <td>2017-02-19 01:23:00+00:00</td>\n",
       "      <td>&lt;a href=\"http://twitter.com/download/iphone\" r...</td>\n",
       "      <td>This is Gidget. She's a spy pupper. Stealthy a...</td>\n",
       "      <td>NaN</td>\n",
       "      <td>NaN</td>\n",
       "      <td>NaN</td>\n",
       "      <td>https://twitter.com/dog_rates/status/833124694...</td>\n",
       "      <td>12</td>\n",
       "      <td>10</td>\n",
       "      <td>Gidget</td>\n",
       "      <td>pupper</td>\n",
       "      <td>5513</td>\n",
       "      <td>22133</td>\n",
       "      <td>https://pbs.twimg.com/media/C4_ad1IUoAEspsk.jpg</td>\n",
       "      <td>3.0</td>\n",
       "      <td>p1</td>\n",
       "      <td>Cardigan</td>\n",
       "      <td>0.710523</td>\n",
       "      <td>True</td>\n",
       "    </tr>\n",
       "  </tbody>\n",
       "</table>\n",
       "</div>"
      ],
      "text/plain": [
       "               tweet_id  in_reply_to_status_id  in_reply_to_user_id  \\\n",
       "813  833124694597443584                    NaN                  NaN   \n",
       "\n",
       "                    timestamp  \\\n",
       "813 2017-02-19 01:23:00+00:00   \n",
       "\n",
       "                                                source  \\\n",
       "813  <a href=\"http://twitter.com/download/iphone\" r...   \n",
       "\n",
       "                                                  text  retweeted_status_id  \\\n",
       "813  This is Gidget. She's a spy pupper. Stealthy a...                  NaN   \n",
       "\n",
       "     retweeted_status_user_id retweeted_status_timestamp  \\\n",
       "813                       NaN                        NaN   \n",
       "\n",
       "                                         expanded_urls  rating_numerator  \\\n",
       "813  https://twitter.com/dog_rates/status/833124694...                12   \n",
       "\n",
       "     rating_denominator    name   stage  retweet_count  favorite_count  \\\n",
       "813                  10  Gidget  pupper           5513           22133   \n",
       "\n",
       "                                             jpg_url  img_num n_pred  \\\n",
       "813  https://pbs.twimg.com/media/C4_ad1IUoAEspsk.jpg      3.0     p1   \n",
       "\n",
       "    breed_pred  confidence is_dog  \n",
       "813   Cardigan    0.710523   True  "
      ]
     },
     "metadata": {},
     "output_type": "display_data"
    }
   ],
   "source": [
    "#Validating the merge:\n",
    "display(comb2_df.sample())"
   ]
  },
  {
   "cell_type": "markdown",
   "metadata": {},
   "source": [
    "# Storing the final dataframe"
   ]
  },
  {
   "cell_type": "code",
   "execution_count": 45,
   "metadata": {},
   "outputs": [],
   "source": [
    "#Creating and exporting the master dataframe to a CSV file:\n",
    "comb2_df.to_csv(\"twitter_archive_master.csv\", index=False)"
   ]
  },
  {
   "cell_type": "markdown",
   "metadata": {},
   "source": [
    "# Getting some insights from analysis:\n"
   ]
  },
  {
   "cell_type": "markdown",
   "metadata": {},
   "source": [
    "I. Some analysis from dogs stages"
   ]
  },
  {
   "cell_type": "code",
   "execution_count": 62,
   "metadata": {},
   "outputs": [
    {
     "data": {
      "text/plain": [
       "<AxesSubplot:ylabel='stage'>"
      ]
     },
     "metadata": {},
     "output_type": "display_data"
    },
    {
     "data": {
      "text/plain": [
       "Charlie    10\n",
       "Cooper     10\n",
       "Oliver      9\n",
       "Lucy        8\n",
       "Tucker      8\n",
       "           ..\n",
       "Ronnie      1\n",
       "Karll       1\n",
       "CeCe        1\n",
       "Brutus      1\n",
       "Sage        1\n",
       "Name: name, Length: 756, dtype: int64"
      ]
     },
     "metadata": {},
     "output_type": "display_data"
    },
    {
     "data": {
      "image/png": "[encoded data removed]",
      "text/plain": [
       "<Figure size 432x288 with 1 Axes>"
      ]
     },
     "metadata": {},
     "output_type": "display_data"
    }
   ],
   "source": [
    "display(comb2_df[\"stage\"].value_counts().sort_values(ascending=False).plot.pie())\n",
    "display(comb2_df[\"name\"].value_counts().sort_values(ascending=False))\n"
   ]
  },
  {
   "cell_type": "markdown",
   "metadata": {},
   "source": [
    "The most common stage of dog that the people publish in WeRateDogs is Pupper (68%)\n",
    "And The most common names for dogs in WeRateDogs are: Charlie, Lucy, Oliver, Tucker, Bo"
   ]
  },
  {
   "cell_type": "code",
   "execution_count": 48,
   "metadata": {},
   "outputs": [
    {
     "data": {
      "text/html": [
       "<div>\n",
       "<style scoped>\n",
       "    .dataframe tbody tr th:only-of-type {\n",
       "        vertical-align: middle;\n",
       "    }\n",
       "\n",
       "    .dataframe tbody tr th {\n",
       "        vertical-align: top;\n",
       "    }\n",
       "\n",
       "    .dataframe thead th {\n",
       "        text-align: right;\n",
       "    }\n",
       "</style>\n",
       "<table border=\"1\" class=\"dataframe\">\n",
       "  <thead>\n",
       "    <tr style=\"text-align: right;\">\n",
       "      <th></th>\n",
       "      <th>rating_numerator</th>\n",
       "      <th>rating_denominator</th>\n",
       "      <th>retweet_count</th>\n",
       "      <th>favorite_count</th>\n",
       "      <th>img_num</th>\n",
       "      <th>confidence</th>\n",
       "    </tr>\n",
       "  </thead>\n",
       "  <tbody>\n",
       "    <tr>\n",
       "      <th>count</th>\n",
       "      <td>75.000000</td>\n",
       "      <td>75.0</td>\n",
       "      <td>75.000000</td>\n",
       "      <td>75.000000</td>\n",
       "      <td>63.000000</td>\n",
       "      <td>63.000000</td>\n",
       "    </tr>\n",
       "    <tr>\n",
       "      <th>mean</th>\n",
       "      <td>11.853333</td>\n",
       "      <td>10.0</td>\n",
       "      <td>6348.786667</td>\n",
       "      <td>17369.093333</td>\n",
       "      <td>1.285714</td>\n",
       "      <td>0.577058</td>\n",
       "    </tr>\n",
       "    <tr>\n",
       "      <th>std</th>\n",
       "      <td>1.430303</td>\n",
       "      <td>0.0</td>\n",
       "      <td>11939.932686</td>\n",
       "      <td>20970.142975</td>\n",
       "      <td>0.658164</td>\n",
       "      <td>0.266157</td>\n",
       "    </tr>\n",
       "    <tr>\n",
       "      <th>min</th>\n",
       "      <td>8.000000</td>\n",
       "      <td>10.0</td>\n",
       "      <td>39.000000</td>\n",
       "      <td>758.000000</td>\n",
       "      <td>1.000000</td>\n",
       "      <td>0.100896</td>\n",
       "    </tr>\n",
       "    <tr>\n",
       "      <th>25%</th>\n",
       "      <td>11.000000</td>\n",
       "      <td>10.0</td>\n",
       "      <td>1948.500000</td>\n",
       "      <td>6461.500000</td>\n",
       "      <td>1.000000</td>\n",
       "      <td>0.393470</td>\n",
       "    </tr>\n",
       "    <tr>\n",
       "      <th>50%</th>\n",
       "      <td>12.000000</td>\n",
       "      <td>10.0</td>\n",
       "      <td>2882.000000</td>\n",
       "      <td>11519.000000</td>\n",
       "      <td>1.000000</td>\n",
       "      <td>0.571229</td>\n",
       "    </tr>\n",
       "    <tr>\n",
       "      <th>75%</th>\n",
       "      <td>13.000000</td>\n",
       "      <td>10.0</td>\n",
       "      <td>5145.000000</td>\n",
       "      <td>18421.000000</td>\n",
       "      <td>1.000000</td>\n",
       "      <td>0.784591</td>\n",
       "    </tr>\n",
       "    <tr>\n",
       "      <th>max</th>\n",
       "      <td>14.000000</td>\n",
       "      <td>10.0</td>\n",
       "      <td>79515.000000</td>\n",
       "      <td>131075.000000</td>\n",
       "      <td>4.000000</td>\n",
       "      <td>0.999962</td>\n",
       "    </tr>\n",
       "  </tbody>\n",
       "</table>\n",
       "</div>"
      ],
      "text/plain": [
       "       rating_numerator  rating_denominator  retweet_count  favorite_count  \\\n",
       "count         75.000000                75.0      75.000000       75.000000   \n",
       "mean          11.853333                10.0    6348.786667    17369.093333   \n",
       "std            1.430303                 0.0   11939.932686    20970.142975   \n",
       "min            8.000000                10.0      39.000000      758.000000   \n",
       "25%           11.000000                10.0    1948.500000     6461.500000   \n",
       "50%           12.000000                10.0    2882.000000    11519.000000   \n",
       "75%           13.000000                10.0    5145.000000    18421.000000   \n",
       "max           14.000000                10.0   79515.000000   131075.000000   \n",
       "\n",
       "         img_num  confidence  \n",
       "count  63.000000   63.000000  \n",
       "mean    1.285714    0.577058  \n",
       "std     0.658164    0.266157  \n",
       "min     1.000000    0.100896  \n",
       "25%     1.000000    0.393470  \n",
       "50%     1.000000    0.571229  \n",
       "75%     1.000000    0.784591  \n",
       "max     4.000000    0.999962  "
      ]
     },
     "execution_count": 48,
     "metadata": {},
     "output_type": "execute_result"
    }
   ],
   "source": [
    "comb2_df[comb2_df[\"stage\"]==\"doggo\"].describe().iloc[:,5:]\n"
   ]
  },
  {
   "cell_type": "code",
   "execution_count": 49,
   "metadata": {},
   "outputs": [
    {
     "data": {
      "text/html": [
       "<div>\n",
       "<style scoped>\n",
       "    .dataframe tbody tr th:only-of-type {\n",
       "        vertical-align: middle;\n",
       "    }\n",
       "\n",
       "    .dataframe tbody tr th {\n",
       "        vertical-align: top;\n",
       "    }\n",
       "\n",
       "    .dataframe thead th {\n",
       "        text-align: right;\n",
       "    }\n",
       "</style>\n",
       "<table border=\"1\" class=\"dataframe\">\n",
       "  <thead>\n",
       "    <tr style=\"text-align: right;\">\n",
       "      <th></th>\n",
       "      <th>rating_numerator</th>\n",
       "      <th>rating_denominator</th>\n",
       "      <th>retweet_count</th>\n",
       "      <th>favorite_count</th>\n",
       "      <th>img_num</th>\n",
       "      <th>confidence</th>\n",
       "    </tr>\n",
       "  </thead>\n",
       "  <tbody>\n",
       "    <tr>\n",
       "      <th>count</th>\n",
       "      <td>24.000000</td>\n",
       "      <td>24.0</td>\n",
       "      <td>24.000000</td>\n",
       "      <td>24.000000</td>\n",
       "      <td>22.000000</td>\n",
       "      <td>22.000000</td>\n",
       "    </tr>\n",
       "    <tr>\n",
       "      <th>mean</th>\n",
       "      <td>12.041667</td>\n",
       "      <td>10.0</td>\n",
       "      <td>6332.500000</td>\n",
       "      <td>20788.875000</td>\n",
       "      <td>1.454545</td>\n",
       "      <td>0.722293</td>\n",
       "    </tr>\n",
       "    <tr>\n",
       "      <th>std</th>\n",
       "      <td>1.267629</td>\n",
       "      <td>0.0</td>\n",
       "      <td>9948.301734</td>\n",
       "      <td>27097.969414</td>\n",
       "      <td>0.670982</td>\n",
       "      <td>0.215132</td>\n",
       "    </tr>\n",
       "    <tr>\n",
       "      <th>min</th>\n",
       "      <td>9.000000</td>\n",
       "      <td>10.0</td>\n",
       "      <td>179.000000</td>\n",
       "      <td>1614.000000</td>\n",
       "      <td>1.000000</td>\n",
       "      <td>0.196015</td>\n",
       "    </tr>\n",
       "    <tr>\n",
       "      <th>25%</th>\n",
       "      <td>11.750000</td>\n",
       "      <td>10.0</td>\n",
       "      <td>1648.750000</td>\n",
       "      <td>6746.750000</td>\n",
       "      <td>1.000000</td>\n",
       "      <td>0.606332</td>\n",
       "    </tr>\n",
       "    <tr>\n",
       "      <th>50%</th>\n",
       "      <td>12.000000</td>\n",
       "      <td>10.0</td>\n",
       "      <td>3130.000000</td>\n",
       "      <td>13387.500000</td>\n",
       "      <td>1.000000</td>\n",
       "      <td>0.733124</td>\n",
       "    </tr>\n",
       "    <tr>\n",
       "      <th>75%</th>\n",
       "      <td>13.000000</td>\n",
       "      <td>10.0</td>\n",
       "      <td>7044.250000</td>\n",
       "      <td>20450.500000</td>\n",
       "      <td>2.000000</td>\n",
       "      <td>0.918011</td>\n",
       "    </tr>\n",
       "    <tr>\n",
       "      <th>max</th>\n",
       "      <td>14.000000</td>\n",
       "      <td>10.0</td>\n",
       "      <td>48265.000000</td>\n",
       "      <td>132810.000000</td>\n",
       "      <td>3.000000</td>\n",
       "      <td>0.999984</td>\n",
       "    </tr>\n",
       "  </tbody>\n",
       "</table>\n",
       "</div>"
      ],
      "text/plain": [
       "       rating_numerator  rating_denominator  retweet_count  favorite_count  \\\n",
       "count         24.000000                24.0      24.000000       24.000000   \n",
       "mean          12.041667                10.0    6332.500000    20788.875000   \n",
       "std            1.267629                 0.0    9948.301734    27097.969414   \n",
       "min            9.000000                10.0     179.000000     1614.000000   \n",
       "25%           11.750000                10.0    1648.750000     6746.750000   \n",
       "50%           12.000000                10.0    3130.000000    13387.500000   \n",
       "75%           13.000000                10.0    7044.250000    20450.500000   \n",
       "max           14.000000                10.0   48265.000000   132810.000000   \n",
       "\n",
       "         img_num  confidence  \n",
       "count  22.000000   22.000000  \n",
       "mean    1.454545    0.722293  \n",
       "std     0.670982    0.215132  \n",
       "min     1.000000    0.196015  \n",
       "25%     1.000000    0.606332  \n",
       "50%     1.000000    0.733124  \n",
       "75%     2.000000    0.918011  \n",
       "max     3.000000    0.999984  "
      ]
     },
     "execution_count": 49,
     "metadata": {},
     "output_type": "execute_result"
    }
   ],
   "source": [
    "comb2_df[comb2_df[\"stage\"]==\"puppo\"].describe().iloc[:,5:]\n"
   ]
  },
  {
   "cell_type": "code",
   "execution_count": 50,
   "metadata": {},
   "outputs": [
    {
     "data": {
      "text/html": [
       "<div>\n",
       "<style scoped>\n",
       "    .dataframe tbody tr th:only-of-type {\n",
       "        vertical-align: middle;\n",
       "    }\n",
       "\n",
       "    .dataframe tbody tr th {\n",
       "        vertical-align: top;\n",
       "    }\n",
       "\n",
       "    .dataframe thead th {\n",
       "        text-align: right;\n",
       "    }\n",
       "</style>\n",
       "<table border=\"1\" class=\"dataframe\">\n",
       "  <thead>\n",
       "    <tr style=\"text-align: right;\">\n",
       "      <th></th>\n",
       "      <th>rating_numerator</th>\n",
       "      <th>rating_denominator</th>\n",
       "      <th>retweet_count</th>\n",
       "      <th>favorite_count</th>\n",
       "      <th>img_num</th>\n",
       "      <th>confidence</th>\n",
       "    </tr>\n",
       "  </thead>\n",
       "  <tbody>\n",
       "    <tr>\n",
       "      <th>count</th>\n",
       "      <td>223.000000</td>\n",
       "      <td>223.0</td>\n",
       "      <td>223.000000</td>\n",
       "      <td>223.000000</td>\n",
       "      <td>202.000000</td>\n",
       "      <td>202.000000</td>\n",
       "    </tr>\n",
       "    <tr>\n",
       "      <th>mean</th>\n",
       "      <td>10.735426</td>\n",
       "      <td>10.0</td>\n",
       "      <td>2460.291480</td>\n",
       "      <td>7175.623318</td>\n",
       "      <td>1.252475</td>\n",
       "      <td>0.602998</td>\n",
       "    </tr>\n",
       "    <tr>\n",
       "      <th>std</th>\n",
       "      <td>1.712948</td>\n",
       "      <td>0.0</td>\n",
       "      <td>3772.223435</td>\n",
       "      <td>10532.383412</td>\n",
       "      <td>0.662138</td>\n",
       "      <td>0.269776</td>\n",
       "    </tr>\n",
       "    <tr>\n",
       "      <th>min</th>\n",
       "      <td>3.000000</td>\n",
       "      <td>10.0</td>\n",
       "      <td>26.000000</td>\n",
       "      <td>269.000000</td>\n",
       "      <td>1.000000</td>\n",
       "      <td>0.059033</td>\n",
       "    </tr>\n",
       "    <tr>\n",
       "      <th>25%</th>\n",
       "      <td>10.000000</td>\n",
       "      <td>10.0</td>\n",
       "      <td>687.000000</td>\n",
       "      <td>2423.500000</td>\n",
       "      <td>1.000000</td>\n",
       "      <td>0.376657</td>\n",
       "    </tr>\n",
       "    <tr>\n",
       "      <th>50%</th>\n",
       "      <td>11.000000</td>\n",
       "      <td>10.0</td>\n",
       "      <td>1239.000000</td>\n",
       "      <td>3306.000000</td>\n",
       "      <td>1.000000</td>\n",
       "      <td>0.640126</td>\n",
       "    </tr>\n",
       "    <tr>\n",
       "      <th>75%</th>\n",
       "      <td>12.000000</td>\n",
       "      <td>10.0</td>\n",
       "      <td>2482.000000</td>\n",
       "      <td>7669.000000</td>\n",
       "      <td>1.000000</td>\n",
       "      <td>0.836534</td>\n",
       "    </tr>\n",
       "    <tr>\n",
       "      <th>max</th>\n",
       "      <td>14.000000</td>\n",
       "      <td>10.0</td>\n",
       "      <td>32883.000000</td>\n",
       "      <td>106827.000000</td>\n",
       "      <td>4.000000</td>\n",
       "      <td>0.999846</td>\n",
       "    </tr>\n",
       "  </tbody>\n",
       "</table>\n",
       "</div>"
      ],
      "text/plain": [
       "       rating_numerator  rating_denominator  retweet_count  favorite_count  \\\n",
       "count        223.000000               223.0     223.000000      223.000000   \n",
       "mean          10.735426                10.0    2460.291480     7175.623318   \n",
       "std            1.712948                 0.0    3772.223435    10532.383412   \n",
       "min            3.000000                10.0      26.000000      269.000000   \n",
       "25%           10.000000                10.0     687.000000     2423.500000   \n",
       "50%           11.000000                10.0    1239.000000     3306.000000   \n",
       "75%           12.000000                10.0    2482.000000     7669.000000   \n",
       "max           14.000000                10.0   32883.000000   106827.000000   \n",
       "\n",
       "          img_num  confidence  \n",
       "count  202.000000  202.000000  \n",
       "mean     1.252475    0.602998  \n",
       "std      0.662138    0.269776  \n",
       "min      1.000000    0.059033  \n",
       "25%      1.000000    0.376657  \n",
       "50%      1.000000    0.640126  \n",
       "75%      1.000000    0.836534  \n",
       "max      4.000000    0.999846  "
      ]
     },
     "execution_count": 50,
     "metadata": {},
     "output_type": "execute_result"
    }
   ],
   "source": [
    "comb2_df[comb2_df[\"stage\"]==\"pupper\"].describe().iloc[:,5:]\n"
   ]
  },
  {
   "cell_type": "code",
   "execution_count": 51,
   "metadata": {},
   "outputs": [
    {
     "data": {
      "text/html": [
       "<div>\n",
       "<style scoped>\n",
       "    .dataframe tbody tr th:only-of-type {\n",
       "        vertical-align: middle;\n",
       "    }\n",
       "\n",
       "    .dataframe tbody tr th {\n",
       "        vertical-align: top;\n",
       "    }\n",
       "\n",
       "    .dataframe thead th {\n",
       "        text-align: right;\n",
       "    }\n",
       "</style>\n",
       "<table border=\"1\" class=\"dataframe\">\n",
       "  <thead>\n",
       "    <tr style=\"text-align: right;\">\n",
       "      <th></th>\n",
       "      <th>rating_numerator</th>\n",
       "      <th>rating_denominator</th>\n",
       "      <th>retweet_count</th>\n",
       "      <th>favorite_count</th>\n",
       "      <th>img_num</th>\n",
       "      <th>confidence</th>\n",
       "    </tr>\n",
       "  </thead>\n",
       "  <tbody>\n",
       "    <tr>\n",
       "      <th>count</th>\n",
       "      <td>9.000000</td>\n",
       "      <td>9.0</td>\n",
       "      <td>9.000000</td>\n",
       "      <td>9.000000</td>\n",
       "      <td>7.000000</td>\n",
       "      <td>7.000000</td>\n",
       "    </tr>\n",
       "    <tr>\n",
       "      <th>mean</th>\n",
       "      <td>11.888889</td>\n",
       "      <td>10.0</td>\n",
       "      <td>4155.888889</td>\n",
       "      <td>11064.444444</td>\n",
       "      <td>1.142857</td>\n",
       "      <td>0.609204</td>\n",
       "    </tr>\n",
       "    <tr>\n",
       "      <th>std</th>\n",
       "      <td>1.054093</td>\n",
       "      <td>0.0</td>\n",
       "      <td>5590.254566</td>\n",
       "      <td>10680.460853</td>\n",
       "      <td>0.377964</td>\n",
       "      <td>0.344807</td>\n",
       "    </tr>\n",
       "    <tr>\n",
       "      <th>min</th>\n",
       "      <td>10.000000</td>\n",
       "      <td>10.0</td>\n",
       "      <td>496.000000</td>\n",
       "      <td>1618.000000</td>\n",
       "      <td>1.000000</td>\n",
       "      <td>0.155144</td>\n",
       "    </tr>\n",
       "    <tr>\n",
       "      <th>25%</th>\n",
       "      <td>11.000000</td>\n",
       "      <td>10.0</td>\n",
       "      <td>1141.000000</td>\n",
       "      <td>4015.000000</td>\n",
       "      <td>1.000000</td>\n",
       "      <td>0.380214</td>\n",
       "    </tr>\n",
       "    <tr>\n",
       "      <th>50%</th>\n",
       "      <td>12.000000</td>\n",
       "      <td>10.0</td>\n",
       "      <td>2509.000000</td>\n",
       "      <td>6076.000000</td>\n",
       "      <td>1.000000</td>\n",
       "      <td>0.457356</td>\n",
       "    </tr>\n",
       "    <tr>\n",
       "      <th>75%</th>\n",
       "      <td>13.000000</td>\n",
       "      <td>10.0</td>\n",
       "      <td>3825.000000</td>\n",
       "      <td>12456.000000</td>\n",
       "      <td>1.000000</td>\n",
       "      <td>0.951751</td>\n",
       "    </tr>\n",
       "    <tr>\n",
       "      <th>max</th>\n",
       "      <td>13.000000</td>\n",
       "      <td>10.0</td>\n",
       "      <td>18497.000000</td>\n",
       "      <td>33345.000000</td>\n",
       "      <td>2.000000</td>\n",
       "      <td>0.987997</td>\n",
       "    </tr>\n",
       "  </tbody>\n",
       "</table>\n",
       "</div>"
      ],
      "text/plain": [
       "       rating_numerator  rating_denominator  retweet_count  favorite_count  \\\n",
       "count          9.000000                 9.0       9.000000        9.000000   \n",
       "mean          11.888889                10.0    4155.888889    11064.444444   \n",
       "std            1.054093                 0.0    5590.254566    10680.460853   \n",
       "min           10.000000                10.0     496.000000     1618.000000   \n",
       "25%           11.000000                10.0    1141.000000     4015.000000   \n",
       "50%           12.000000                10.0    2509.000000     6076.000000   \n",
       "75%           13.000000                10.0    3825.000000    12456.000000   \n",
       "max           13.000000                10.0   18497.000000    33345.000000   \n",
       "\n",
       "        img_num  confidence  \n",
       "count  7.000000    7.000000  \n",
       "mean   1.142857    0.609204  \n",
       "std    0.377964    0.344807  \n",
       "min    1.000000    0.155144  \n",
       "25%    1.000000    0.380214  \n",
       "50%    1.000000    0.457356  \n",
       "75%    1.000000    0.951751  \n",
       "max    2.000000    0.987997  "
      ]
     },
     "execution_count": 51,
     "metadata": {},
     "output_type": "execute_result"
    }
   ],
   "source": [
    "comb2_df[comb2_df[\"stage\"]==\"floofer\"].describe().iloc[:,5:]\n"
   ]
  },
  {
   "cell_type": "code",
   "execution_count": 52,
   "metadata": {},
   "outputs": [
    {
     "data": {
      "text/html": [
       "<div>\n",
       "<style scoped>\n",
       "    .dataframe tbody tr th:only-of-type {\n",
       "        vertical-align: middle;\n",
       "    }\n",
       "\n",
       "    .dataframe tbody tr th {\n",
       "        vertical-align: top;\n",
       "    }\n",
       "\n",
       "    .dataframe thead th {\n",
       "        text-align: right;\n",
       "    }\n",
       "</style>\n",
       "<table border=\"1\" class=\"dataframe\">\n",
       "  <thead>\n",
       "    <tr style=\"text-align: right;\">\n",
       "      <th></th>\n",
       "      <th>rating_numerator</th>\n",
       "    </tr>\n",
       "    <tr>\n",
       "      <th>stage</th>\n",
       "      <th></th>\n",
       "    </tr>\n",
       "  </thead>\n",
       "  <tbody>\n",
       "    <tr>\n",
       "      <th>puppo</th>\n",
       "      <td>12.041667</td>\n",
       "    </tr>\n",
       "    <tr>\n",
       "      <th>floofer</th>\n",
       "      <td>11.888889</td>\n",
       "    </tr>\n",
       "    <tr>\n",
       "      <th>doggo</th>\n",
       "      <td>11.853333</td>\n",
       "    </tr>\n",
       "    <tr>\n",
       "      <th>pupper</th>\n",
       "      <td>10.735426</td>\n",
       "    </tr>\n",
       "  </tbody>\n",
       "</table>\n",
       "</div>"
      ],
      "text/plain": [
       "         rating_numerator\n",
       "stage                    \n",
       "puppo           12.041667\n",
       "floofer         11.888889\n",
       "doggo           11.853333\n",
       "pupper          10.735426"
      ]
     },
     "metadata": {},
     "output_type": "display_data"
    },
    {
     "data": {
      "text/plain": [
       "<AxesSubplot:ylabel='stage'>"
      ]
     },
     "execution_count": 52,
     "metadata": {},
     "output_type": "execute_result"
    },
    {
     "data": {
      "image/png": "[encoded data removed]",
      "text/plain": [
       "<Figure size 432x288 with 1 Axes>"
      ]
     },
     "metadata": {
      "needs_background": "light"
     },
     "output_type": "display_data"
    }
   ],
   "source": [
    "#Analysis for rating according to dog stage:\n",
    "display(pd.pivot_table(comb2_df, index=\"stage\", values=\"rating_numerator\", aggfunc=np.mean).sort_values(\"rating_numerator\", ascending=False))\n",
    "pd.pivot_table(comb2_df, index=\"stage\", values=\"rating_numerator\", aggfunc=np.mean).sort_values(\"rating_numerator\", ascending=True).plot.barh()"
   ]
  },
  {
   "cell_type": "code",
   "execution_count": 61,
   "metadata": {},
   "outputs": [
    {
     "data": {
      "text/html": [
       "<div>\n",
       "<style scoped>\n",
       "    .dataframe tbody tr th:only-of-type {\n",
       "        vertical-align: middle;\n",
       "    }\n",
       "\n",
       "    .dataframe tbody tr th {\n",
       "        vertical-align: top;\n",
       "    }\n",
       "\n",
       "    .dataframe thead th {\n",
       "        text-align: right;\n",
       "    }\n",
       "</style>\n",
       "<table border=\"1\" class=\"dataframe\">\n",
       "  <thead>\n",
       "    <tr style=\"text-align: right;\">\n",
       "      <th></th>\n",
       "      <th>favorite_count</th>\n",
       "      <th>retweet_count</th>\n",
       "    </tr>\n",
       "    <tr>\n",
       "      <th>stage</th>\n",
       "      <th></th>\n",
       "      <th></th>\n",
       "    </tr>\n",
       "  </thead>\n",
       "  <tbody>\n",
       "    <tr>\n",
       "      <th>puppo</th>\n",
       "      <td>22308.210526</td>\n",
       "      <td>6551.473684</td>\n",
       "    </tr>\n",
       "    <tr>\n",
       "      <th>doggo</th>\n",
       "      <td>20556.354167</td>\n",
       "      <td>7594.854167</td>\n",
       "    </tr>\n",
       "    <tr>\n",
       "      <th>floofer</th>\n",
       "      <td>13206.000000</td>\n",
       "      <td>4968.714286</td>\n",
       "    </tr>\n",
       "    <tr>\n",
       "      <th>pupper</th>\n",
       "      <td>8053.524476</td>\n",
       "      <td>2561.727273</td>\n",
       "    </tr>\n",
       "  </tbody>\n",
       "</table>\n",
       "</div>"
      ],
      "text/plain": [
       "         favorite_count  retweet_count\n",
       "stage                                 \n",
       "puppo      22308.210526    6551.473684\n",
       "doggo      20556.354167    7594.854167\n",
       "floofer    13206.000000    4968.714286\n",
       "pupper      8053.524476    2561.727273"
      ]
     },
     "metadata": {},
     "output_type": "display_data"
    },
    {
     "data": {
      "text/plain": [
       "<AxesSubplot:ylabel='stage'>"
      ]
     },
     "execution_count": 61,
     "metadata": {},
     "output_type": "execute_result"
    },
    {
     "data": {
      "image/png": "[encoded data removed]",
      "text/plain": [
       "<Figure size 432x288 with 1 Axes>"
      ]
     },
     "metadata": {
      "needs_background": "light"
     },
     "output_type": "display_data"
    }
   ],
   "source": [
    "#Analysis for actions on twitter (retweet and favorite) according to dog stage:\n",
    "display(pd.pivot_table(comb2_df, index=\"stage\", values=[\"retweet_count\",\"favorite_count\"], aggfunc=np.mean).sort_values(\"favorite_count\", ascending=False))\n",
    "pd.pivot_table(comb2_df, index=\"stage\", values=[\"retweet_count\",\"favorite_count\"], aggfunc=np.mean).sort_values(\"favorite_count\", ascending=True).plot.barh()\n"
   ]
  },
  {
   "cell_type": "markdown",
   "metadata": {},
   "source": [
    "#### Insight N°1\n",
    "Even if puppers are the most common published dogs in WeRateDogs, they have the worst rating average and also the less favorite and retweet counts."
   ]
  },
  {
   "cell_type": "markdown",
   "metadata": {},
   "source": [
    "II. Some analysis for image predictors"
   ]
  },
  {
   "cell_type": "code",
   "execution_count": 54,
   "metadata": {},
   "outputs": [
    {
     "data": {
      "text/plain": [
       "<AxesSubplot:ylabel='img_num'>"
      ]
     },
     "execution_count": 54,
     "metadata": {},
     "output_type": "execute_result"
    },
    {
     "data": {
      "image/png": "[encoded data removed]",
      "text/plain": [
       "<Figure size 432x288 with 1 Axes>"
      ]
     },
     "metadata": {},
     "output_type": "display_data"
    }
   ],
   "source": [
    "#Deleting observations with no image, because aren´t predictions:\n",
    "comb2_df = comb2_df[comb2_df[\"jpg_url\"].notnull()]\n",
    "comb2_df.img_num.value_counts().plot.pie()"
   ]
  },
  {
   "cell_type": "markdown",
   "metadata": {},
   "source": [
    "#### Insight N°2\n",
    "In General, the image predictor get his best accuracy level with the first image"
   ]
  },
  {
   "cell_type": "code",
   "execution_count": 55,
   "metadata": {},
   "outputs": [
    {
     "data": {
      "text/plain": [
       "<AxesSubplot:ylabel='is_dog'>"
      ]
     },
     "execution_count": 55,
     "metadata": {},
     "output_type": "execute_result"
    },
    {
     "data": {
      "image/png": "[encoded data removed]",
      "text/plain": [
       "<Figure size 432x288 with 1 Axes>"
      ]
     },
     "metadata": {},
     "output_type": "display_data"
    }
   ],
   "source": [
    "comb2_df[\"is_dog\"].value_counts().plot.pie()"
   ]
  },
  {
   "cell_type": "markdown",
   "metadata": {},
   "source": [
    "74% of the observations the predictor response a breed of dog."
   ]
  },
  {
   "cell_type": "code",
   "execution_count": 56,
   "metadata": {},
   "outputs": [
    {
     "data": {
      "text/plain": [
       "golden_retriever      136\n",
       "Labrador_retriever     92\n",
       "Pembroke               88\n",
       "Chihuahua              79\n",
       "pug                    54\n",
       "                     ... \n",
       "groenendael             1\n",
       "Japanese_spaniel        1\n",
       "standard_schnauzer      1\n",
       "EntleBucher             1\n",
       "silky_terrier           1\n",
       "Name: breed_pred, Length: 110, dtype: int64"
      ]
     },
     "execution_count": 56,
     "metadata": {},
     "output_type": "execute_result"
    }
   ],
   "source": [
    "#Deleting observations where predictor says something that's not a breed of dog:\n",
    "comb2_df = comb2_df[comb2_df[\"is_dog\"]==True]\n",
    "comb2_df[\"breed_pred\"].value_counts()\n"
   ]
  },
  {
   "cell_type": "code",
   "execution_count": 57,
   "metadata": {},
   "outputs": [],
   "source": [
    "df_a = pd.pivot_table(comb2_df, index=\"breed_pred\", values=[\"confidence\"], aggfunc=np.mean).sort_values(\"confidence\", ascending=False)\n",
    "df_b = pd.pivot_table(comb2_df, index=\"breed_pred\", values=[\"n_pred\"], aggfunc=np.count_nonzero).sort_values(\"n_pred\", ascending=False)\n",
    "\n",
    "df_c = df_a.merge(df_b, how=\"left\", on=\"breed_pred\")"
   ]
  },
  {
   "cell_type": "code",
   "execution_count": 65,
   "metadata": {},
   "outputs": [
    {
     "data": {
      "text/html": [
       "<div>\n",
       "<style scoped>\n",
       "    .dataframe tbody tr th:only-of-type {\n",
       "        vertical-align: middle;\n",
       "    }\n",
       "\n",
       "    .dataframe tbody tr th {\n",
       "        vertical-align: top;\n",
       "    }\n",
       "\n",
       "    .dataframe thead th {\n",
       "        text-align: right;\n",
       "    }\n",
       "</style>\n",
       "<table border=\"1\" class=\"dataframe\">\n",
       "  <thead>\n",
       "    <tr style=\"text-align: right;\">\n",
       "      <th></th>\n",
       "      <th>confidence</th>\n",
       "      <th>n_pred</th>\n",
       "    </tr>\n",
       "    <tr>\n",
       "      <th>breed_pred</th>\n",
       "      <th></th>\n",
       "      <th></th>\n",
       "    </tr>\n",
       "  </thead>\n",
       "  <tbody>\n",
       "    <tr>\n",
       "      <th>golden_retriever</th>\n",
       "      <td>0.726270</td>\n",
       "      <td>136</td>\n",
       "    </tr>\n",
       "    <tr>\n",
       "      <th>Labrador_retriever</th>\n",
       "      <td>0.655582</td>\n",
       "      <td>92</td>\n",
       "    </tr>\n",
       "    <tr>\n",
       "      <th>Pembroke</th>\n",
       "      <td>0.717223</td>\n",
       "      <td>88</td>\n",
       "    </tr>\n",
       "    <tr>\n",
       "      <th>Chihuahua</th>\n",
       "      <td>0.588905</td>\n",
       "      <td>79</td>\n",
       "    </tr>\n",
       "    <tr>\n",
       "      <th>pug</th>\n",
       "      <td>0.759223</td>\n",
       "      <td>54</td>\n",
       "    </tr>\n",
       "    <tr>\n",
       "      <th>...</th>\n",
       "      <td>...</td>\n",
       "      <td>...</td>\n",
       "    </tr>\n",
       "    <tr>\n",
       "      <th>Japanese_spaniel</th>\n",
       "      <td>0.661178</td>\n",
       "      <td>1</td>\n",
       "    </tr>\n",
       "    <tr>\n",
       "      <th>silky_terrier</th>\n",
       "      <td>0.324251</td>\n",
       "      <td>1</td>\n",
       "    </tr>\n",
       "    <tr>\n",
       "      <th>standard_schnauzer</th>\n",
       "      <td>0.441427</td>\n",
       "      <td>1</td>\n",
       "    </tr>\n",
       "    <tr>\n",
       "      <th>Scotch_terrier</th>\n",
       "      <td>0.267979</td>\n",
       "      <td>1</td>\n",
       "    </tr>\n",
       "    <tr>\n",
       "      <th>groenendael</th>\n",
       "      <td>0.550796</td>\n",
       "      <td>1</td>\n",
       "    </tr>\n",
       "  </tbody>\n",
       "</table>\n",
       "<p>110 rows × 2 columns</p>\n",
       "</div>"
      ],
      "text/plain": [
       "                    confidence  n_pred\n",
       "breed_pred                            \n",
       "golden_retriever      0.726270     136\n",
       "Labrador_retriever    0.655582      92\n",
       "Pembroke              0.717223      88\n",
       "Chihuahua             0.588905      79\n",
       "pug                   0.759223      54\n",
       "...                        ...     ...\n",
       "Japanese_spaniel      0.661178       1\n",
       "silky_terrier         0.324251       1\n",
       "standard_schnauzer    0.441427       1\n",
       "Scotch_terrier        0.267979       1\n",
       "groenendael           0.550796       1\n",
       "\n",
       "[110 rows x 2 columns]"
      ]
     },
     "execution_count": 65,
     "metadata": {},
     "output_type": "execute_result"
    }
   ],
   "source": [
    "df_c.sort_values(\"n_pred\", ascending=False)"
   ]
  },
  {
   "cell_type": "code",
   "execution_count": 59,
   "metadata": {},
   "outputs": [
    {
     "data": {
      "text/html": [
       "<div>\n",
       "<style scoped>\n",
       "    .dataframe tbody tr th:only-of-type {\n",
       "        vertical-align: middle;\n",
       "    }\n",
       "\n",
       "    .dataframe tbody tr th {\n",
       "        vertical-align: top;\n",
       "    }\n",
       "\n",
       "    .dataframe thead th {\n",
       "        text-align: right;\n",
       "    }\n",
       "</style>\n",
       "<table border=\"1\" class=\"dataframe\">\n",
       "  <thead>\n",
       "    <tr style=\"text-align: right;\">\n",
       "      <th></th>\n",
       "      <th>confidence</th>\n",
       "      <th>n_pred</th>\n",
       "    </tr>\n",
       "    <tr>\n",
       "      <th>breed_pred</th>\n",
       "      <th></th>\n",
       "      <th></th>\n",
       "    </tr>\n",
       "  </thead>\n",
       "  <tbody>\n",
       "    <tr>\n",
       "      <th>komondor</th>\n",
       "      <td>0.972531</td>\n",
       "      <td>3</td>\n",
       "    </tr>\n",
       "    <tr>\n",
       "      <th>Brittany_spaniel</th>\n",
       "      <td>0.874545</td>\n",
       "      <td>7</td>\n",
       "    </tr>\n",
       "    <tr>\n",
       "      <th>keeshond</th>\n",
       "      <td>0.844431</td>\n",
       "      <td>4</td>\n",
       "    </tr>\n",
       "    <tr>\n",
       "      <th>bull_mastiff</th>\n",
       "      <td>0.815618</td>\n",
       "      <td>5</td>\n",
       "    </tr>\n",
       "    <tr>\n",
       "      <th>Bernese_mountain_dog</th>\n",
       "      <td>0.801816</td>\n",
       "      <td>10</td>\n",
       "    </tr>\n",
       "    <tr>\n",
       "      <th>...</th>\n",
       "      <td>...</td>\n",
       "      <td>...</td>\n",
       "    </tr>\n",
       "    <tr>\n",
       "      <th>wire-haired_fox_terrier</th>\n",
       "      <td>0.305596</td>\n",
       "      <td>2</td>\n",
       "    </tr>\n",
       "    <tr>\n",
       "      <th>Norwich_terrier</th>\n",
       "      <td>0.295496</td>\n",
       "      <td>4</td>\n",
       "    </tr>\n",
       "    <tr>\n",
       "      <th>Scotch_terrier</th>\n",
       "      <td>0.267979</td>\n",
       "      <td>1</td>\n",
       "    </tr>\n",
       "    <tr>\n",
       "      <th>cairn</th>\n",
       "      <td>0.262196</td>\n",
       "      <td>3</td>\n",
       "    </tr>\n",
       "    <tr>\n",
       "      <th>Scottish_deerhound</th>\n",
       "      <td>0.182365</td>\n",
       "      <td>3</td>\n",
       "    </tr>\n",
       "  </tbody>\n",
       "</table>\n",
       "<p>110 rows × 2 columns</p>\n",
       "</div>"
      ],
      "text/plain": [
       "                         confidence  n_pred\n",
       "breed_pred                                 \n",
       "komondor                   0.972531       3\n",
       "Brittany_spaniel           0.874545       7\n",
       "keeshond                   0.844431       4\n",
       "bull_mastiff               0.815618       5\n",
       "Bernese_mountain_dog       0.801816      10\n",
       "...                             ...     ...\n",
       "wire-haired_fox_terrier    0.305596       2\n",
       "Norwich_terrier            0.295496       4\n",
       "Scotch_terrier             0.267979       1\n",
       "cairn                      0.262196       3\n",
       "Scottish_deerhound         0.182365       3\n",
       "\n",
       "[110 rows x 2 columns]"
      ]
     },
     "metadata": {},
     "output_type": "display_data"
    },
    {
     "data": {
      "text/plain": [
       "<AxesSubplot:xlabel='breed_pred'>"
      ]
     },
     "execution_count": 59,
     "metadata": {},
     "output_type": "execute_result"
    },
    {
     "data": {
      "image/png": "[encoded data removed]",
      "text/plain": [
       "<Figure size 432x288 with 1 Axes>"
      ]
     },
     "metadata": {
      "needs_background": "light"
     },
     "output_type": "display_data"
    }
   ],
   "source": [
    "display(df_c.sort_values(\"confidence\", ascending=False))\n",
    "df_c.sort_values(\"confidence\", ascending=False).head(10).plot.bar()"
   ]
  },
  {
   "cell_type": "markdown",
   "metadata": {},
   "source": [
    "#### Insight N°3\n",
    "- We have some breeds with high levels (>85%) of prediction confidence (komondor, brittany_spaniel, bull_mastiff), but this number is based in just some observations, so we can't really ensure that.\n",
    "- In the other hand we can see there are some breeds with high quantity of observations, and in general confidence prediction is around 60-70%."
   ]
  }
 ],
 "metadata": {
  "kernelspec": {
   "display_name": "Python 3",
   "language": "python",
   "name": "python3"
  },
  "language_info": {
   "codemirror_mode": {
    "name": "ipython",
    "version": 3
   },
   "file_extension": ".py",
   "mimetype": "text/x-python",
   "name": "python",
   "nbconvert_exporter": "python",
   "pygments_lexer": "ipython3",
   "version": "3.8.5"
  }
 },
 "nbformat": 4,
 "nbformat_minor": 4
}
